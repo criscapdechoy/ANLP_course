{
 "cells": [
  {
   "cell_type": "markdown",
   "metadata": {},
   "source": [
    "# Inspect DDI Train data to test rules\n",
    "\n",
    "Notebook to test Parser, rules and features for the DDI Train dataset.\n",
    "\n",
    "> NOTE: StanfordCoreNLP needs to be running on a terminal before using the noteboo. Use the following command:\n",
    "```bash\n",
    "java -mx4g -cp 'resources/stanford-corenlp/*' edu.stanford.nlp.pipeline.StanfordCoreNLPServer\n",
    "```"
   ]
  },
  {
   "cell_type": "code",
   "execution_count": 4,
   "metadata": {},
   "outputs": [],
   "source": [
    "# !/usr/bin/python3\n",
    "from graphviz import Digraph\n",
    "from nltk.parse.corenlp import CoreNLPDependencyParser\n",
    "from os import listdir, system, path, makedirs\n",
    "from xml.dom.minidom import parse\n",
    "from tqdm import tqdm\n",
    "import pickle\n",
    "import pandas as pd"
   ]
  },
  {
   "cell_type": "code",
   "execution_count": 5,
   "metadata": {},
   "outputs": [],
   "source": [
    "inputdir = \"data/Train\"\n",
    "outputfile = \"data/tmp/task9.2_BASELINE_999.txt\"\n",
    "DependencyParser = CoreNLPDependencyParser(url=\"http://localhost:9000\")\n",
    "import DDI_ML as ddi"
   ]
  },
  {
   "cell_type": "code",
   "execution_count": 16,
   "metadata": {},
   "outputs": [
    {
     "name": "stderr",
     "output_type": "stream",
     "text": [
      "100%|██████████| 24/24 [00:07<00:00,  3.23it/s]\n"
     ]
    }
   ],
   "source": [
    "training_data = []\n",
    "entities = {}\n",
    "files = listdir(inputdir)\n",
    "for f in tqdm(files[:24]):\n",
    "    # Parse XML file\n",
    "    sentences = ddi.parseXML(f\"{inputdir}/{f}\")\n",
    "    for s in sentences[:]:\n",
    "        # get sentence id/text\n",
    "        sid = s.attributes[\"id\"].value\n",
    "        stext = s.attributes[\"text\"].value\n",
    "        if not stext:  # Do not process if sentence is empty\n",
    "            continue\n",
    "\n",
    "        # load sentence entities into a dictionary\n",
    "        ents = s.getElementsByTagName(\"entity\")\n",
    "        for e in ents:\n",
    "            id = e.attributes[\"id\"].value\n",
    "            offs = e.attributes[\"charOffset\"].value.split(\"-\")\n",
    "            text = e.attributes[\"text\"].value\n",
    "            entities[id] = {\"offset\": offs, \"text\": text}\n",
    "\n",
    "#         # Tokenize, tag, and parse sentence\n",
    "        analysis = ddi.analyze(stext)\n",
    "        \n",
    "#         verbs = sorted(\n",
    "#             [analysis.nodes[n] for n in analysis.nodes if \"VB\" in analysis.nodes[n][\"tag\"]],\n",
    "#             key=lambda x: x[\"head\"]\n",
    "#         )\n",
    "#         verb = verbs[0] if len(verbs) else None\n",
    "        verb = None\n",
    "\n",
    "        training_data.append((sid, stext, verb))"
   ]
  },
  {
   "cell_type": "markdown",
   "metadata": {},
   "source": [
    "--------------------------------------\n",
    "--------------------------------------\n",
    "--------------------------------------"
   ]
  },
  {
   "cell_type": "code",
   "execution_count": 7,
   "metadata": {},
   "outputs": [
    {
     "name": "stdout",
     "output_type": "stream",
     "text": [
      "(2703, 5)\n"
     ]
    },
    {
     "data": {
      "text/plain": [
       "DDI_type\n",
       "advise        119\n",
       "effect        162\n",
       "int             2\n",
       "mechanism     201\n",
       "null         2219\n",
       "dtype: int64"
      ]
     },
     "execution_count": 7,
     "metadata": {},
     "output_type": "execute_result"
    }
   ],
   "source": [
    "with open(\"resources/train_goldDDI.txt\",\"r\") as fp:\n",
    "    lines = fp.readlines()\n",
    "ents = [line.replace(\"\\n\",\"\").split(\"|\") for line in lines]\n",
    "ents\n",
    "\n",
    "df = pd.DataFrame(ents, columns=[\"sentence\",\"e1\",\"e2\",\"is_DDI\",\"DDI_type\"])\n",
    "print(df.shape)\n",
    "df.groupby(\"DDI_type\").size()"
   ]
  },
  {
   "cell_type": "code",
   "execution_count": 8,
   "metadata": {},
   "outputs": [
    {
     "data": {
      "text/html": [
       "<div>\n",
       "<style scoped>\n",
       "    .dataframe tbody tr th:only-of-type {\n",
       "        vertical-align: middle;\n",
       "    }\n",
       "\n",
       "    .dataframe tbody tr th {\n",
       "        vertical-align: top;\n",
       "    }\n",
       "\n",
       "    .dataframe thead th {\n",
       "        text-align: right;\n",
       "    }\n",
       "</style>\n",
       "<table border=\"1\" class=\"dataframe\">\n",
       "  <thead>\n",
       "    <tr style=\"text-align: right;\">\n",
       "      <th></th>\n",
       "      <th>sentence</th>\n",
       "      <th>e1</th>\n",
       "      <th>e2</th>\n",
       "      <th>is_DDI</th>\n",
       "      <th>DDI_type</th>\n",
       "    </tr>\n",
       "  </thead>\n",
       "  <tbody>\n",
       "    <tr>\n",
       "      <th>0</th>\n",
       "      <td>DDI-DrugBank.d481.s0</td>\n",
       "      <td>DDI-DrugBank.d481.s0.e0</td>\n",
       "      <td>DDI-DrugBank.d481.s0.e1</td>\n",
       "      <td>1</td>\n",
       "      <td>mechanism</td>\n",
       "    </tr>\n",
       "    <tr>\n",
       "      <th>8</th>\n",
       "      <td>DDI-MedLine.d63.s4</td>\n",
       "      <td>DDI-MedLine.d63.s4.e0</td>\n",
       "      <td>DDI-MedLine.d63.s4.e1</td>\n",
       "      <td>1</td>\n",
       "      <td>effect</td>\n",
       "    </tr>\n",
       "    <tr>\n",
       "      <th>13</th>\n",
       "      <td>DDI-MedLine.d63.s4</td>\n",
       "      <td>DDI-MedLine.d63.s4.e2</td>\n",
       "      <td>DDI-MedLine.d63.s4.e3</td>\n",
       "      <td>1</td>\n",
       "      <td>effect</td>\n",
       "    </tr>\n",
       "    <tr>\n",
       "      <th>14</th>\n",
       "      <td>DDI-MedLine.d63.s5</td>\n",
       "      <td>DDI-MedLine.d63.s5.e0</td>\n",
       "      <td>DDI-MedLine.d63.s5.e1</td>\n",
       "      <td>1</td>\n",
       "      <td>effect</td>\n",
       "    </tr>\n",
       "    <tr>\n",
       "      <th>15</th>\n",
       "      <td>DDI-MedLine.d63.s6</td>\n",
       "      <td>DDI-MedLine.d63.s6.e0</td>\n",
       "      <td>DDI-MedLine.d63.s6.e1</td>\n",
       "      <td>1</td>\n",
       "      <td>effect</td>\n",
       "    </tr>\n",
       "  </tbody>\n",
       "</table>\n",
       "</div>"
      ],
      "text/plain": [
       "                sentence                       e1                       e2  \\\n",
       "0   DDI-DrugBank.d481.s0  DDI-DrugBank.d481.s0.e0  DDI-DrugBank.d481.s0.e1   \n",
       "8     DDI-MedLine.d63.s4    DDI-MedLine.d63.s4.e0    DDI-MedLine.d63.s4.e1   \n",
       "13    DDI-MedLine.d63.s4    DDI-MedLine.d63.s4.e2    DDI-MedLine.d63.s4.e3   \n",
       "14    DDI-MedLine.d63.s5    DDI-MedLine.d63.s5.e0    DDI-MedLine.d63.s5.e1   \n",
       "15    DDI-MedLine.d63.s6    DDI-MedLine.d63.s6.e0    DDI-MedLine.d63.s6.e1   \n",
       "\n",
       "   is_DDI   DDI_type  \n",
       "0       1  mechanism  \n",
       "8       1     effect  \n",
       "13      1     effect  \n",
       "14      1     effect  \n",
       "15      1     effect  "
      ]
     },
     "execution_count": 8,
     "metadata": {},
     "output_type": "execute_result"
    }
   ],
   "source": [
    "df_ddi = df[df[\"DDI_type\"] != \"null\"]\n",
    "sents = df_ddi[\"sentence\"].values\n",
    "df_ddi.head()"
   ]
  },
  {
   "cell_type": "code",
   "execution_count": 9,
   "metadata": {},
   "outputs": [
    {
     "name": "stdout",
     "output_type": "stream",
     "text": [
      "0       Interactions between Betaseron and other drugs...\n",
      "1       Although studies designed to examine drug inte...\n",
      "2       Betaseron administration to three cancer patie...\n",
      "3       Differential regulation of tyrosine phosphoryl...\n",
      "4       The homodimeric disintegrin contortrostatin wa...\n",
      "                              ...                        \n",
      "6033    Lovastatin therapy has not been associated wit...\n",
      "6034    Propranolol: In normal volunteers, there was n...\n",
      "6035    Digoxin: In patients with hypercholesterolemia...\n",
      "6036    Oral Hypoglycemic Agents: In pharmacokinetic s...\n",
      "6037    May interact with addictive medications, espec...\n",
      "Name: text, Length: 6038, dtype: object\n",
      "0       Interactions between Betaseron and other drugs...\n",
      "1       Although studies designed to examine drug inte...\n",
      "2       Betaseron administration to three cancer patie...\n",
      "3       Differential regulation of tyrosine phosphoryl...\n",
      "4       The homodimeric disintegrin contortrostatin wa...\n",
      "                              ...                        \n",
      "6033    Lovastatin therapy has not been associated wit...\n",
      "6034    Propranolol: In normal volunteers, there was n...\n",
      "6035    Digoxin: In patients with hypercholesterolemia...\n",
      "6036    Oral Hypoglycemic Agents: In pharmacokinetic s...\n",
      "6037    May interact with addictive medications, espec...\n",
      "Name: text, Length: 6038, dtype: object\n",
      "0       Interactions between Betaseron and other drugs...\n",
      "1       Although studies designed to examine drug inte...\n",
      "2       Betaseron administration to three cancer patie...\n",
      "3       Differential regulation of tyrosine phosphoryl...\n",
      "4       The homodimeric disintegrin contortrostatin wa...\n",
      "                              ...                        \n",
      "6033    Lovastatin therapy has not been associated wit...\n",
      "6034    Propranolol: In normal volunteers, there was n...\n",
      "6035    Digoxin: In patients with hypercholesterolemia...\n",
      "6036    Oral Hypoglycemic Agents: In pharmacokinetic s...\n",
      "6037    May interact with addictive medications, espec...\n",
      "Name: text, Length: 6038, dtype: object\n"
     ]
    },
    {
     "data": {
      "text/html": [
       "<div>\n",
       "<style scoped>\n",
       "    .dataframe tbody tr th:only-of-type {\n",
       "        vertical-align: middle;\n",
       "    }\n",
       "\n",
       "    .dataframe tbody tr th {\n",
       "        vertical-align: top;\n",
       "    }\n",
       "\n",
       "    .dataframe thead th {\n",
       "        text-align: right;\n",
       "    }\n",
       "</style>\n",
       "<table border=\"1\" class=\"dataframe\">\n",
       "  <thead>\n",
       "    <tr style=\"text-align: right;\">\n",
       "      <th></th>\n",
       "      <th>sentence</th>\n",
       "      <th>text</th>\n",
       "      <th>verb</th>\n",
       "    </tr>\n",
       "  </thead>\n",
       "  <tbody>\n",
       "    <tr>\n",
       "      <th>0</th>\n",
       "      <td>DDI-DrugBank.d10.s0</td>\n",
       "      <td>Interactions between Betaseron and other drugs...</td>\n",
       "      <td>None</td>\n",
       "    </tr>\n",
       "    <tr>\n",
       "      <th>1</th>\n",
       "      <td>DDI-DrugBank.d10.s1</td>\n",
       "      <td>Although studies designed to examine drug inte...</td>\n",
       "      <td>None</td>\n",
       "    </tr>\n",
       "    <tr>\n",
       "      <th>2</th>\n",
       "      <td>DDI-DrugBank.d10.s2</td>\n",
       "      <td>Betaseron administration to three cancer patie...</td>\n",
       "      <td>None</td>\n",
       "    </tr>\n",
       "    <tr>\n",
       "      <th>3</th>\n",
       "      <td>DDI-MedLine.d69.s0</td>\n",
       "      <td>Differential regulation of tyrosine phosphoryl...</td>\n",
       "      <td>None</td>\n",
       "    </tr>\n",
       "    <tr>\n",
       "      <th>4</th>\n",
       "      <td>DDI-MedLine.d69.s1</td>\n",
       "      <td>The homodimeric disintegrin contortrostatin wa...</td>\n",
       "      <td>None</td>\n",
       "    </tr>\n",
       "  </tbody>\n",
       "</table>\n",
       "</div>"
      ],
      "text/plain": [
       "              sentence                                               text  \\\n",
       "0  DDI-DrugBank.d10.s0  Interactions between Betaseron and other drugs...   \n",
       "1  DDI-DrugBank.d10.s1  Although studies designed to examine drug inte...   \n",
       "2  DDI-DrugBank.d10.s2  Betaseron administration to three cancer patie...   \n",
       "3   DDI-MedLine.d69.s0  Differential regulation of tyrosine phosphoryl...   \n",
       "4   DDI-MedLine.d69.s1  The homodimeric disintegrin contortrostatin wa...   \n",
       "\n",
       "   verb  \n",
       "0  None  \n",
       "1  None  \n",
       "2  None  \n",
       "3  None  \n",
       "4  None  "
      ]
     },
     "execution_count": 9,
     "metadata": {},
     "output_type": "execute_result"
    }
   ],
   "source": [
    "_data = [[t[0], t[1], t[2][\"lemma\"] if t[2] else None] for t in training_data]\n",
    "df_verb = pd.DataFrame(_data, columns=[\"sentence\",\"text\",\"verb\"])\n",
    "for i in df_verb:\n",
    "    print(df_verb.text, )\n",
    "df_verb.head()"
   ]
  },
  {
   "cell_type": "code",
   "execution_count": 10,
   "metadata": {},
   "outputs": [
    {
     "data": {
      "text/html": [
       "<div>\n",
       "<style scoped>\n",
       "    .dataframe tbody tr th:only-of-type {\n",
       "        vertical-align: middle;\n",
       "    }\n",
       "\n",
       "    .dataframe tbody tr th {\n",
       "        vertical-align: top;\n",
       "    }\n",
       "\n",
       "    .dataframe thead th {\n",
       "        text-align: right;\n",
       "    }\n",
       "</style>\n",
       "<table border=\"1\" class=\"dataframe\">\n",
       "  <thead>\n",
       "    <tr style=\"text-align: right;\">\n",
       "      <th></th>\n",
       "      <th>sentence</th>\n",
       "      <th>e1</th>\n",
       "      <th>e2</th>\n",
       "      <th>is_DDI</th>\n",
       "      <th>DDI_type</th>\n",
       "      <th>text</th>\n",
       "    </tr>\n",
       "  </thead>\n",
       "  <tbody>\n",
       "  </tbody>\n",
       "</table>\n",
       "</div>"
      ],
      "text/plain": [
       "Empty DataFrame\n",
       "Columns: [sentence, e1, e2, is_DDI, DDI_type, text]\n",
       "Index: []"
      ]
     },
     "execution_count": 10,
     "metadata": {},
     "output_type": "execute_result"
    }
   ],
   "source": [
    "df = df_ddi.merge(df_verb.iloc[:,:-1], on=\"sentence\", how=\"inner\")\n",
    "df.sort_values(by=\"DDI_type\", inplace=True)\n",
    "df[\"e1\"] = df[\"e1\"].apply(lambda x: entities[x][\"text\"])\n",
    "df[\"e2\"] = df[\"e2\"].apply(lambda x: entities[x][\"text\"])\n",
    "df.head()"
   ]
  },
  {
   "cell_type": "markdown",
   "metadata": {},
   "source": [
    "--------------------------------------\n",
    "-------------------------------------\n",
    "-------------------------------------\n",
    "------------------------------------"
   ]
  },
  {
   "cell_type": "code",
   "execution_count": 11,
   "metadata": {},
   "outputs": [
    {
     "ename": "ValueError",
     "evalue": "a must be greater than 0 unless no samples are taken",
     "output_type": "error",
     "traceback": [
      "\u001b[0;31m---------------------------------------------------------------------------\u001b[0m",
      "\u001b[0;31mValueError\u001b[0m                                Traceback (most recent call last)",
      "\u001b[0;32m<ipython-input-11-110792a764f0>\u001b[0m in \u001b[0;36m<module>\u001b[0;34m\u001b[0m\n\u001b[1;32m      1\u001b[0m \u001b[0mmechanism\u001b[0m \u001b[0;34m=\u001b[0m \u001b[0mdf\u001b[0m\u001b[0;34m[\u001b[0m\u001b[0mdf\u001b[0m\u001b[0;34m[\u001b[0m\u001b[0;34m\"DDI_type\"\u001b[0m\u001b[0;34m]\u001b[0m \u001b[0;34m==\u001b[0m \u001b[0;34m\"mechanism\"\u001b[0m\u001b[0;34m]\u001b[0m\u001b[0;34m\u001b[0m\u001b[0m\n\u001b[0;32m----> 2\u001b[0;31m \u001b[0mrow\u001b[0m \u001b[0;34m=\u001b[0m \u001b[0mmechanism\u001b[0m\u001b[0;34m.\u001b[0m\u001b[0msample\u001b[0m\u001b[0;34m(\u001b[0m\u001b[0;36m1\u001b[0m\u001b[0;34m,\u001b[0m \u001b[0mrandom_state\u001b[0m\u001b[0;34m=\u001b[0m\u001b[0;36m44\u001b[0m\u001b[0;34m)\u001b[0m\u001b[0;34m\u001b[0m\u001b[0m\n\u001b[0m\u001b[1;32m      3\u001b[0m \u001b[0mprint\u001b[0m\u001b[0;34m(\u001b[0m\u001b[0mrow\u001b[0m\u001b[0;34m[\u001b[0m\u001b[0;34m\"sentence\"\u001b[0m\u001b[0;34m]\u001b[0m\u001b[0;34m.\u001b[0m\u001b[0mvalues\u001b[0m\u001b[0;34m)\u001b[0m\u001b[0;34m\u001b[0m\u001b[0m\n\u001b[1;32m      4\u001b[0m \u001b[0mprint\u001b[0m\u001b[0;34m(\u001b[0m\u001b[0mrow\u001b[0m\u001b[0;34m[\u001b[0m\u001b[0;34m\"text\"\u001b[0m\u001b[0;34m]\u001b[0m\u001b[0;34m.\u001b[0m\u001b[0mvalues\u001b[0m\u001b[0;34m)\u001b[0m\u001b[0;34m\u001b[0m\u001b[0m\n\u001b[1;32m      5\u001b[0m \u001b[0mprint\u001b[0m\u001b[0;34m(\u001b[0m\u001b[0mrow\u001b[0m\u001b[0;34m[\u001b[0m\u001b[0;34m\"e1\"\u001b[0m\u001b[0;34m]\u001b[0m\u001b[0;34m.\u001b[0m\u001b[0mvalues\u001b[0m\u001b[0;34m)\u001b[0m\u001b[0;34m\u001b[0m\u001b[0m\n",
      "\u001b[0;32m~/Documents/Git/ANLP_course/anlp/lib/python3.7/site-packages/pandas/core/generic.py\u001b[0m in \u001b[0;36msample\u001b[0;34m(self, n, frac, replace, weights, random_state, axis)\u001b[0m\n\u001b[1;32m   5059\u001b[0m             )\n\u001b[1;32m   5060\u001b[0m \u001b[0;34m\u001b[0m\u001b[0m\n\u001b[0;32m-> 5061\u001b[0;31m         \u001b[0mlocs\u001b[0m \u001b[0;34m=\u001b[0m \u001b[0mrs\u001b[0m\u001b[0;34m.\u001b[0m\u001b[0mchoice\u001b[0m\u001b[0;34m(\u001b[0m\u001b[0maxis_length\u001b[0m\u001b[0;34m,\u001b[0m \u001b[0msize\u001b[0m\u001b[0;34m=\u001b[0m\u001b[0mn\u001b[0m\u001b[0;34m,\u001b[0m \u001b[0mreplace\u001b[0m\u001b[0;34m=\u001b[0m\u001b[0mreplace\u001b[0m\u001b[0;34m,\u001b[0m \u001b[0mp\u001b[0m\u001b[0;34m=\u001b[0m\u001b[0mweights\u001b[0m\u001b[0;34m)\u001b[0m\u001b[0;34m\u001b[0m\u001b[0m\n\u001b[0m\u001b[1;32m   5062\u001b[0m         \u001b[0;32mreturn\u001b[0m \u001b[0mself\u001b[0m\u001b[0;34m.\u001b[0m\u001b[0mtake\u001b[0m\u001b[0;34m(\u001b[0m\u001b[0mlocs\u001b[0m\u001b[0;34m,\u001b[0m \u001b[0maxis\u001b[0m\u001b[0;34m=\u001b[0m\u001b[0maxis\u001b[0m\u001b[0;34m)\u001b[0m\u001b[0;34m\u001b[0m\u001b[0m\n\u001b[1;32m   5063\u001b[0m \u001b[0;34m\u001b[0m\u001b[0m\n",
      "\u001b[0;32mmtrand.pyx\u001b[0m in \u001b[0;36mnumpy.random.mtrand.RandomState.choice\u001b[0;34m()\u001b[0m\n",
      "\u001b[0;31mValueError\u001b[0m: a must be greater than 0 unless no samples are taken"
     ]
    }
   ],
   "source": [
    "mechanism = df[df[\"DDI_type\"] == \"mechanism\"]\n",
    "row = mechanism.sample(1, random_state=44)\n",
    "print(row[\"sentence\"].values)\n",
    "print(row[\"text\"].values)\n",
    "print(row[\"e1\"].values)\n",
    "print(row[\"e2\"].values)\n",
    "analysis = ddi.analyze(row[\"text\"].values[0])\n",
    "analysis"
   ]
  },
  {
   "cell_type": "code",
   "execution_count": 12,
   "metadata": {},
   "outputs": [
    {
     "ename": "NameError",
     "evalue": "name 'analysis' is not defined",
     "output_type": "error",
     "traceback": [
      "\u001b[0;31m---------------------------------------------------------------------------\u001b[0m",
      "\u001b[0;31mNameError\u001b[0m                                 Traceback (most recent call last)",
      "\u001b[0;32m<ipython-input-12-2c7c696f4ba5>\u001b[0m in \u001b[0;36m<module>\u001b[0;34m\u001b[0m\n\u001b[0;32m----> 1\u001b[0;31m \u001b[0mn0\u001b[0m \u001b[0;34m=\u001b[0m \u001b[0mddi\u001b[0m\u001b[0;34m.\u001b[0m\u001b[0mget_entity_node\u001b[0m\u001b[0;34m(\u001b[0m\u001b[0manalysis\u001b[0m\u001b[0;34m,\u001b[0m \u001b[0mentities\u001b[0m\u001b[0;34m,\u001b[0m \u001b[0;34m\"DDI-DrugBank.d430.s0.e0\"\u001b[0m\u001b[0;34m)\u001b[0m\u001b[0;34m\u001b[0m\u001b[0m\n\u001b[0m\u001b[1;32m      2\u001b[0m \u001b[0mn1\u001b[0m \u001b[0;34m=\u001b[0m \u001b[0mddi\u001b[0m\u001b[0;34m.\u001b[0m\u001b[0mget_entity_node\u001b[0m\u001b[0;34m(\u001b[0m\u001b[0manalysis\u001b[0m\u001b[0;34m,\u001b[0m \u001b[0mentities\u001b[0m\u001b[0;34m,\u001b[0m \u001b[0;34m\"DDI-DrugBank.d430.s0.e1\"\u001b[0m\u001b[0;34m)\u001b[0m\u001b[0;34m\u001b[0m\u001b[0m\n\u001b[1;32m      3\u001b[0m \u001b[0mn0\u001b[0m\u001b[0;34m,\u001b[0m \u001b[0mn1\u001b[0m\u001b[0;34m\u001b[0m\u001b[0m\n",
      "\u001b[0;31mNameError\u001b[0m: name 'analysis' is not defined"
     ]
    }
   ],
   "source": [
    "n0 = ddi.get_entity_node(analysis, entities, \"DDI-DrugBank.d430.s0.e0\")\n",
    "n1 = ddi.get_entity_node(analysis, entities, \"DDI-DrugBank.d430.s0.e1\")\n",
    "n0, n1"
   ]
  },
  {
   "cell_type": "code",
   "execution_count": 10,
   "metadata": {},
   "outputs": [
    {
     "data": {
      "text/plain": [
       "({'address': 4,\n",
       "  'word': 'shown',\n",
       "  'lemma': 'show',\n",
       "  'ctag': 'VBN',\n",
       "  'tag': 'VBN',\n",
       "  'feats': '_',\n",
       "  'head': 0,\n",
       "  'deps': defaultdict(list,\n",
       "              {'nsubjpass': [2], 'auxpass': [3], 'xcomp': [6], 'punct': [12]}),\n",
       "  'rel': 'ROOT'},\n",
       " {'address': 6,\n",
       "  'word': 'double',\n",
       "  'lemma': 'double',\n",
       "  'ctag': 'VB',\n",
       "  'tag': 'VB',\n",
       "  'feats': '_',\n",
       "  'head': 4,\n",
       "  'deps': defaultdict(list, {'mark': [5], 'dobj': [8]}),\n",
       "  'rel': 'xcomp'})"
      ]
     },
     "execution_count": 10,
     "metadata": {},
     "output_type": "execute_result"
    }
   ],
   "source": [
    "v0 = ddi.get_verb_ancestor(analysis, n0)\n",
    "v1 = ddi.get_verb_ancestor(analysis, n1)\n",
    "v0, v1"
   ]
  },
  {
   "cell_type": "code",
   "execution_count": 11,
   "metadata": {},
   "outputs": [
    {
     "data": {
      "text/plain": [
       "True"
      ]
     },
     "execution_count": 11,
     "metadata": {},
     "output_type": "execute_result"
    }
   ],
   "source": [
    "[v1[\"address\"]] in v0[\"deps\"].values()"
   ]
  },
  {
   "cell_type": "markdown",
   "metadata": {},
   "source": [
    "-----------------------------------\n",
    "-----------------------------------\n",
    "-----------------------------------\n",
    "-----------------------------------"
   ]
  },
  {
   "cell_type": "code",
   "execution_count": 21,
   "metadata": {},
   "outputs": [
    {
     "name": "stdout",
     "output_type": "stream",
     "text": [
      "['DDI-DrugBank.d400.s5']\n",
      "['This interaction should be given consideration in patients taking NSAIDs concomitantly with ACE inhibitors.']\n",
      "['NSAIDs']\n",
      "['ACE inhibitors']\n"
     ]
    },
    {
     "data": {
      "image/svg+xml": [
       "<?xml version=\"1.0\" encoding=\"UTF-8\" standalone=\"no\"?>\n",
       "<!DOCTYPE svg PUBLIC \"-//W3C//DTD SVG 1.1//EN\"\n",
       " \"http://www.w3.org/Graphics/SVG/1.1/DTD/svg11.dtd\">\n",
       "<!-- Generated by graphviz version 2.40.1 (20161225.0304)\n",
       " -->\n",
       "<!-- Title: G Pages: 1 -->\n",
       "<svg width=\"706pt\" height=\"479pt\"\n",
       " viewBox=\"0.00 0.00 706.00 479.00\" xmlns=\"http://www.w3.org/2000/svg\" xmlns:xlink=\"http://www.w3.org/1999/xlink\">\n",
       "<g id=\"graph0\" class=\"graph\" transform=\"scale(1 1) rotate(0) translate(4 475)\">\n",
       "<title>G</title>\n",
       "<polygon fill=\"#ffffff\" stroke=\"transparent\" points=\"-4,4 -4,-475 702,-475 702,4 -4,4\"/>\n",
       "<!-- 0 -->\n",
       "<g id=\"node1\" class=\"node\">\n",
       "<title>0</title>\n",
       "<text text-anchor=\"middle\" x=\"279\" y=\"-449.3\" font-family=\"Times,serif\" font-size=\"14.00\" fill=\"#000000\">0 (None)</text>\n",
       "</g>\n",
       "<!-- 5 -->\n",
       "<g id=\"node2\" class=\"node\">\n",
       "<title>5</title>\n",
       "<text text-anchor=\"middle\" x=\"279\" y=\"-362.3\" font-family=\"Times,serif\" font-size=\"14.00\" fill=\"#000000\">5 (given)</text>\n",
       "</g>\n",
       "<!-- 0&#45;&gt;5 -->\n",
       "<g id=\"edge1\" class=\"edge\">\n",
       "<title>0&#45;&gt;5</title>\n",
       "<path fill=\"none\" stroke=\"#000000\" d=\"M279,-434.9735C279,-423.1918 279,-407.5607 279,-394.1581\"/>\n",
       "<polygon fill=\"#000000\" stroke=\"#000000\" points=\"282.5001,-394.0033 279,-384.0034 275.5001,-394.0034 282.5001,-394.0033\"/>\n",
       "<text text-anchor=\"middle\" x=\"297.5\" y=\"-405.8\" font-family=\"Times,serif\" font-size=\"14.00\" fill=\"#000000\">ROOT</text>\n",
       "</g>\n",
       "<!-- 2 -->\n",
       "<g id=\"node4\" class=\"node\">\n",
       "<title>2</title>\n",
       "<text text-anchor=\"middle\" x=\"47\" y=\"-275.3\" font-family=\"Times,serif\" font-size=\"14.00\" fill=\"#000000\">2 (interaction)</text>\n",
       "</g>\n",
       "<!-- 5&#45;&gt;2 -->\n",
       "<g id=\"edge3\" class=\"edge\">\n",
       "<title>5&#45;&gt;2</title>\n",
       "<path fill=\"none\" stroke=\"#000000\" d=\"M245.8433,-358.6948C219.229,-352.3864 181.1345,-342.3493 149,-330 128.5412,-322.1376 106.7026,-311.5382 88.5034,-302.0392\"/>\n",
       "<polygon fill=\"#000000\" stroke=\"#000000\" points=\"89.8205,-298.7764 79.3447,-297.1925 86.5463,-304.9634 89.8205,-298.7764\"/>\n",
       "<text text-anchor=\"middle\" x=\"175.5\" y=\"-318.8\" font-family=\"Times,serif\" font-size=\"14.00\" fill=\"#000000\">nsubjpass</text>\n",
       "</g>\n",
       "<!-- 3 -->\n",
       "<g id=\"node5\" class=\"node\">\n",
       "<title>3</title>\n",
       "<text text-anchor=\"middle\" x=\"148\" y=\"-275.3\" font-family=\"Times,serif\" font-size=\"14.00\" fill=\"#000000\">3 (should)</text>\n",
       "</g>\n",
       "<!-- 5&#45;&gt;3 -->\n",
       "<g id=\"edge4\" class=\"edge\">\n",
       "<title>5&#45;&gt;3</title>\n",
       "<path fill=\"none\" stroke=\"#000000\" d=\"M251.8567,-347.9735C232.0964,-334.8503 205.1449,-316.9512 183.6495,-302.6756\"/>\n",
       "<polygon fill=\"#000000\" stroke=\"#000000\" points=\"185.3751,-299.6201 175.1085,-297.0034 181.5025,-305.4513 185.3751,-299.6201\"/>\n",
       "<text text-anchor=\"middle\" x=\"232\" y=\"-318.8\" font-family=\"Times,serif\" font-size=\"14.00\" fill=\"#000000\">aux</text>\n",
       "</g>\n",
       "<!-- 4 -->\n",
       "<g id=\"node6\" class=\"node\">\n",
       "<title>4</title>\n",
       "<text text-anchor=\"middle\" x=\"229\" y=\"-275.3\" font-family=\"Times,serif\" font-size=\"14.00\" fill=\"#000000\">4 (be)</text>\n",
       "</g>\n",
       "<!-- 5&#45;&gt;4 -->\n",
       "<g id=\"edge5\" class=\"edge\">\n",
       "<title>5&#45;&gt;4</title>\n",
       "<path fill=\"none\" stroke=\"#000000\" d=\"M268.64,-347.9735C261.6677,-335.8418 252.3498,-319.6287 244.4999,-305.9698\"/>\n",
       "<polygon fill=\"#000000\" stroke=\"#000000\" points=\"247.3642,-303.9295 239.3468,-297.0034 241.2951,-307.4175 247.3642,-303.9295\"/>\n",
       "<text text-anchor=\"middle\" x=\"278.5\" y=\"-318.8\" font-family=\"Times,serif\" font-size=\"14.00\" fill=\"#000000\">auxpass</text>\n",
       "</g>\n",
       "<!-- 6 -->\n",
       "<g id=\"node7\" class=\"node\">\n",
       "<title>6</title>\n",
       "<text text-anchor=\"middle\" x=\"329\" y=\"-275.3\" font-family=\"Times,serif\" font-size=\"14.00\" fill=\"#000000\">6 (consideration)</text>\n",
       "</g>\n",
       "<!-- 5&#45;&gt;6 -->\n",
       "<g id=\"edge6\" class=\"edge\">\n",
       "<title>5&#45;&gt;6</title>\n",
       "<path fill=\"none\" stroke=\"#000000\" d=\"M292.5255,-347.6672C296.4097,-342.1062 300.5298,-335.904 304,-330 308.4049,-322.5058 312.7406,-314.1252 316.5325,-306.3574\"/>\n",
       "<polygon fill=\"#000000\" stroke=\"#000000\" points=\"319.7126,-307.8201 320.8561,-297.2871 313.3937,-304.808 319.7126,-307.8201\"/>\n",
       "<text text-anchor=\"middle\" x=\"324.5\" y=\"-318.8\" font-family=\"Times,serif\" font-size=\"14.00\" fill=\"#000000\">dobj</text>\n",
       "</g>\n",
       "<!-- 8 -->\n",
       "<g id=\"node8\" class=\"node\">\n",
       "<title>8</title>\n",
       "<text text-anchor=\"middle\" x=\"441\" y=\"-275.3\" font-family=\"Times,serif\" font-size=\"14.00\" fill=\"#000000\">8 (patients)</text>\n",
       "</g>\n",
       "<!-- 5&#45;&gt;8 -->\n",
       "<g id=\"edge7\" class=\"edge\">\n",
       "<title>5&#45;&gt;8</title>\n",
       "<path fill=\"none\" stroke=\"#000000\" d=\"M312.174,-348.1843C337.1242,-334.7851 371.5066,-316.3206 398.476,-301.837\"/>\n",
       "<polygon fill=\"#000000\" stroke=\"#000000\" points=\"400.1596,-304.9056 407.3136,-297.0908 396.8477,-298.7387 400.1596,-304.9056\"/>\n",
       "<text text-anchor=\"middle\" x=\"386\" y=\"-318.8\" font-family=\"Times,serif\" font-size=\"14.00\" fill=\"#000000\">nmod</text>\n",
       "</g>\n",
       "<!-- 15 -->\n",
       "<g id=\"node9\" class=\"node\">\n",
       "<title>15</title>\n",
       "<text text-anchor=\"middle\" x=\"525\" y=\"-275.3\" font-family=\"Times,serif\" font-size=\"14.00\" fill=\"#000000\">15 (.)</text>\n",
       "</g>\n",
       "<!-- 5&#45;&gt;15 -->\n",
       "<g id=\"edge8\" class=\"edge\">\n",
       "<title>5&#45;&gt;15</title>\n",
       "<path fill=\"none\" stroke=\"#000000\" d=\"M312.1769,-357.5906C337.9696,-350.8142 374.5342,-340.6838 406,-330 440.8001,-318.1841 451.2503,-313.8685 488.4918,-297.0973\"/>\n",
       "<polygon fill=\"#000000\" stroke=\"#000000\" points=\"490.3145,-300.1148 497.9916,-292.8133 487.4368,-293.7337 490.3145,-300.1148\"/>\n",
       "<text text-anchor=\"middle\" x=\"462.5\" y=\"-318.8\" font-family=\"Times,serif\" font-size=\"14.00\" fill=\"#000000\">punct</text>\n",
       "</g>\n",
       "<!-- 1 -->\n",
       "<g id=\"node3\" class=\"node\">\n",
       "<title>1</title>\n",
       "<text text-anchor=\"middle\" x=\"47\" y=\"-188.3\" font-family=\"Times,serif\" font-size=\"14.00\" fill=\"#000000\">1 (This)</text>\n",
       "</g>\n",
       "<!-- 2&#45;&gt;1 -->\n",
       "<g id=\"edge2\" class=\"edge\">\n",
       "<title>2&#45;&gt;1</title>\n",
       "<path fill=\"none\" stroke=\"#000000\" d=\"M47,-260.9735C47,-249.1918 47,-233.5607 47,-220.1581\"/>\n",
       "<polygon fill=\"#000000\" stroke=\"#000000\" points=\"50.5001,-220.0033 47,-210.0034 43.5001,-220.0034 50.5001,-220.0033\"/>\n",
       "<text text-anchor=\"middle\" x=\"55.5\" y=\"-231.8\" font-family=\"Times,serif\" font-size=\"14.00\" fill=\"#000000\">det</text>\n",
       "</g>\n",
       "<!-- 7 -->\n",
       "<g id=\"node10\" class=\"node\">\n",
       "<title>7</title>\n",
       "<text text-anchor=\"middle\" x=\"409\" y=\"-188.3\" font-family=\"Times,serif\" font-size=\"14.00\" fill=\"#000000\">7 (in)</text>\n",
       "</g>\n",
       "<!-- 8&#45;&gt;7 -->\n",
       "<g id=\"edge9\" class=\"edge\">\n",
       "<title>8&#45;&gt;7</title>\n",
       "<path fill=\"none\" stroke=\"#000000\" d=\"M433.7657,-260.7285C431.5564,-255.0609 429.145,-248.7846 427,-243 424.2619,-235.6159 421.3858,-227.5958 418.756,-220.149\"/>\n",
       "<polygon fill=\"#000000\" stroke=\"#000000\" points=\"421.9714,-218.7413 415.3587,-210.4634 415.3659,-221.0582 421.9714,-218.7413\"/>\n",
       "<text text-anchor=\"middle\" x=\"439\" y=\"-231.8\" font-family=\"Times,serif\" font-size=\"14.00\" fill=\"#000000\">case</text>\n",
       "</g>\n",
       "<!-- 9 -->\n",
       "<g id=\"node11\" class=\"node\">\n",
       "<title>9</title>\n",
       "<text text-anchor=\"middle\" x=\"489\" y=\"-188.3\" font-family=\"Times,serif\" font-size=\"14.00\" fill=\"#000000\">9 (taking)</text>\n",
       "</g>\n",
       "<!-- 8&#45;&gt;9 -->\n",
       "<g id=\"edge10\" class=\"edge\">\n",
       "<title>8&#45;&gt;9</title>\n",
       "<path fill=\"none\" stroke=\"#000000\" d=\"M450.9456,-260.9735C457.639,-248.8418 466.5842,-232.6287 474.1201,-218.9698\"/>\n",
       "<polygon fill=\"#000000\" stroke=\"#000000\" points=\"477.3008,-220.4499 479.0671,-210.0034 471.1718,-217.0684 477.3008,-220.4499\"/>\n",
       "<text text-anchor=\"middle\" x=\"476\" y=\"-231.8\" font-family=\"Times,serif\" font-size=\"14.00\" fill=\"#000000\">acl</text>\n",
       "</g>\n",
       "<!-- 10 -->\n",
       "<g id=\"node12\" class=\"node\">\n",
       "<title>10</title>\n",
       "<text text-anchor=\"middle\" x=\"366\" y=\"-101.3\" font-family=\"Times,serif\" font-size=\"14.00\" fill=\"#000000\">10 (NSAIDs)</text>\n",
       "</g>\n",
       "<!-- 9&#45;&gt;10 -->\n",
       "<g id=\"edge11\" class=\"edge\">\n",
       "<title>9&#45;&gt;10</title>\n",
       "<path fill=\"none\" stroke=\"#000000\" d=\"M463.5143,-173.9735C445.0432,-160.9086 419.8799,-143.1102 399.7418,-128.8662\"/>\n",
       "<polygon fill=\"#000000\" stroke=\"#000000\" points=\"401.6383,-125.9206 391.453,-123.0034 397.5961,-131.6355 401.6383,-125.9206\"/>\n",
       "<text text-anchor=\"middle\" x=\"447.5\" y=\"-144.8\" font-family=\"Times,serif\" font-size=\"14.00\" fill=\"#000000\">dobj</text>\n",
       "</g>\n",
       "<!-- 11 -->\n",
       "<g id=\"node13\" class=\"node\">\n",
       "<title>11</title>\n",
       "<text text-anchor=\"middle\" x=\"489\" y=\"-101.3\" font-family=\"Times,serif\" font-size=\"14.00\" fill=\"#000000\">11 (concomitantly)</text>\n",
       "</g>\n",
       "<!-- 9&#45;&gt;11 -->\n",
       "<g id=\"edge12\" class=\"edge\">\n",
       "<title>9&#45;&gt;11</title>\n",
       "<path fill=\"none\" stroke=\"#000000\" d=\"M489,-173.9735C489,-162.1918 489,-146.5607 489,-133.1581\"/>\n",
       "<polygon fill=\"#000000\" stroke=\"#000000\" points=\"492.5001,-133.0033 489,-123.0034 485.5001,-133.0034 492.5001,-133.0033\"/>\n",
       "<text text-anchor=\"middle\" x=\"511.5\" y=\"-144.8\" font-family=\"Times,serif\" font-size=\"14.00\" fill=\"#000000\">advmod</text>\n",
       "</g>\n",
       "<!-- 14 -->\n",
       "<g id=\"node14\" class=\"node\">\n",
       "<title>14</title>\n",
       "<text text-anchor=\"middle\" x=\"615\" y=\"-101.3\" font-family=\"Times,serif\" font-size=\"14.00\" fill=\"#000000\">14 (inhibitors)</text>\n",
       "</g>\n",
       "<!-- 9&#45;&gt;14 -->\n",
       "<g id=\"edge13\" class=\"edge\">\n",
       "<title>9&#45;&gt;14</title>\n",
       "<path fill=\"none\" stroke=\"#000000\" d=\"M515.1073,-173.9735C534.0289,-160.9086 559.8059,-143.1102 580.4352,-128.8662\"/>\n",
       "<polygon fill=\"#000000\" stroke=\"#000000\" points=\"582.6859,-131.5655 588.9262,-123.0034 578.7085,-125.8052 582.6859,-131.5655\"/>\n",
       "<text text-anchor=\"middle\" x=\"576\" y=\"-144.8\" font-family=\"Times,serif\" font-size=\"14.00\" fill=\"#000000\">nmod</text>\n",
       "</g>\n",
       "<!-- 12 -->\n",
       "<g id=\"node15\" class=\"node\">\n",
       "<title>12</title>\n",
       "<text text-anchor=\"middle\" x=\"572\" y=\"-14.3\" font-family=\"Times,serif\" font-size=\"14.00\" fill=\"#000000\">12 (with)</text>\n",
       "</g>\n",
       "<!-- 14&#45;&gt;12 -->\n",
       "<g id=\"edge14\" class=\"edge\">\n",
       "<title>14&#45;&gt;12</title>\n",
       "<path fill=\"none\" stroke=\"#000000\" d=\"M606.0904,-86.9735C600.0942,-74.8418 592.0808,-58.6287 585.3299,-44.9698\"/>\n",
       "<polygon fill=\"#000000\" stroke=\"#000000\" points=\"588.4668,-43.4173 580.8982,-36.0034 582.1915,-46.519 588.4668,-43.4173\"/>\n",
       "<text text-anchor=\"middle\" x=\"609\" y=\"-57.8\" font-family=\"Times,serif\" font-size=\"14.00\" fill=\"#000000\">case</text>\n",
       "</g>\n",
       "<!-- 13 -->\n",
       "<g id=\"node16\" class=\"node\">\n",
       "<title>13</title>\n",
       "<text text-anchor=\"middle\" x=\"659\" y=\"-14.3\" font-family=\"Times,serif\" font-size=\"14.00\" fill=\"#000000\">13 (ACE)</text>\n",
       "</g>\n",
       "<!-- 14&#45;&gt;13 -->\n",
       "<g id=\"edge15\" class=\"edge\">\n",
       "<title>14&#45;&gt;13</title>\n",
       "<path fill=\"none\" stroke=\"#000000\" d=\"M624.1168,-86.9735C630.2524,-74.8418 638.4522,-58.6287 645.3601,-44.9698\"/>\n",
       "<polygon fill=\"#000000\" stroke=\"#000000\" points=\"648.505,-46.5066 649.8949,-36.0034 642.2584,-43.3474 648.505,-46.5066\"/>\n",
       "<text text-anchor=\"middle\" x=\"669\" y=\"-57.8\" font-family=\"Times,serif\" font-size=\"14.00\" fill=\"#000000\">compound</text>\n",
       "</g>\n",
       "</g>\n",
       "</svg>\n"
      ],
      "text/plain": [
       "<DependencyGraph with 16 nodes>"
      ]
     },
     "execution_count": 21,
     "metadata": {},
     "output_type": "execute_result"
    }
   ],
   "source": [
    "advise = df[df[\"DDI_type\"] == \"advise\"]\n",
    "row = advise.sample(1, random_state=42)\n",
    "print(row[\"sentence\"].values)\n",
    "print(row[\"text\"].values)\n",
    "print(row[\"e1\"].values)\n",
    "print(row[\"e2\"].values)\n",
    "analysis = ddi.analyze(row[\"text\"].values[0])\n",
    "analysis"
   ]
  },
  {
   "cell_type": "code",
   "execution_count": 13,
   "metadata": {},
   "outputs": [
    {
     "data": {
      "text/plain": [
       "({'address': 10,\n",
       "  'word': 'NSAIDs',\n",
       "  'lemma': 'nsaid',\n",
       "  'ctag': 'NNS',\n",
       "  'tag': 'NNS',\n",
       "  'feats': '_',\n",
       "  'head': 9,\n",
       "  'deps': defaultdict(list, {}),\n",
       "  'rel': 'dobj'},\n",
       " {'address': 14,\n",
       "  'word': 'inhibitors',\n",
       "  'lemma': 'inhibitor',\n",
       "  'ctag': 'NNS',\n",
       "  'tag': 'NNS',\n",
       "  'feats': '_',\n",
       "  'head': 9,\n",
       "  'deps': defaultdict(list, {'case': [12], 'compound': [13]}),\n",
       "  'rel': 'nmod'},\n",
       " {'address': 9,\n",
       "  'word': 'taking',\n",
       "  'lemma': 'take',\n",
       "  'ctag': 'VBG',\n",
       "  'tag': 'VBG',\n",
       "  'feats': '_',\n",
       "  'head': 8,\n",
       "  'deps': defaultdict(list, {'dobj': [10], 'advmod': [11], 'nmod': [14]}),\n",
       "  'rel': 'acl'},\n",
       " {'address': 9,\n",
       "  'word': 'taking',\n",
       "  'lemma': 'take',\n",
       "  'ctag': 'VBG',\n",
       "  'tag': 'VBG',\n",
       "  'feats': '_',\n",
       "  'head': 8,\n",
       "  'deps': defaultdict(list, {'dobj': [10], 'advmod': [11], 'nmod': [14]}),\n",
       "  'rel': 'acl'})"
      ]
     },
     "execution_count": 13,
     "metadata": {},
     "output_type": "execute_result"
    }
   ],
   "source": [
    "n0 = ddi.get_entity_node(analysis, entities, \"DDI-DrugBank.d400.s5.e0\")\n",
    "n1 = ddi.get_entity_node(analysis, entities, \"DDI-DrugBank.d400.s5.e1\")\n",
    "v0 = ddi.get_verb_ancestor(analysis, n0)\n",
    "v1 = ddi.get_verb_ancestor(analysis, n1)\n",
    "n0, n1, v0, v1"
   ]
  },
  {
   "cell_type": "code",
   "execution_count": 14,
   "metadata": {},
   "outputs": [
    {
     "data": {
      "text/plain": [
       "True"
      ]
     },
     "execution_count": 14,
     "metadata": {},
     "output_type": "execute_result"
    }
   ],
   "source": [
    "e0_dobj = ddi.get_dependency_address(v0, \"dobj\") == n0[\"address\"]\n",
    "e1_nmod = ddi.get_dependency_address(v1, \"nmod\") == n1[\"address\"]\n",
    "e0_dobj_nmod_e1 = e0_dobj and e1_nmod\n",
    "e0_dobj_nmod_e1"
   ]
  },
  {
   "cell_type": "code",
   "execution_count": 23,
   "metadata": {},
   "outputs": [
    {
     "data": {
      "text/plain": [
       "True"
      ]
     },
     "execution_count": 23,
     "metadata": {},
     "output_type": "execute_result"
    }
   ],
   "source": [
    "modal_vb = [\"can\", \"could\", \"may\", \"might\", \"must\", \"will\", \"would\",\n",
    "                \"shall\", \"should\"]\n",
    "modal_present = any(\n",
    "    len([n for n in analysis.nodes if analysis.nodes[n][\"word\"] is not None and modal in analysis.nodes[n][\"tag\"]])\n",
    "    for modal in modal_vb\n",
    ")\n",
    "modal_present"
   ]
  },
  {
   "cell_type": "code",
   "execution_count": null,
   "metadata": {},
   "outputs": [],
   "source": []
  }
 ],
 "metadata": {
  "kernelspec": {
   "display_name": "Python 3",
   "language": "python",
   "name": "python3"
  },
  "language_info": {
   "codemirror_mode": {
    "name": "ipython",
    "version": 3
   },
   "file_extension": ".py",
   "mimetype": "text/x-python",
   "name": "python",
   "nbconvert_exporter": "python",
   "pygments_lexer": "ipython3",
   "version": "3.7.0"
  }
 },
 "nbformat": 4,
 "nbformat_minor": 4
}
