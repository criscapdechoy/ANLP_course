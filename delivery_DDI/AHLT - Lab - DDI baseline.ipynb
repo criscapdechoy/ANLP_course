{
 "cells": [
  {
   "cell_type": "markdown",
   "metadata": {},
   "source": [
    "# AHLT - Lab - DDI Baseline"
   ]
  },
  {
   "cell_type": "markdown",
   "metadata": {},
   "source": [
    "Authors: Ricard Monge (group12) and Cristina Capdevila (group 10)"
   ]
  },
  {
   "cell_type": "markdown",
   "metadata": {},
   "source": [
    "This notebook contains the deliverables for the AHLT Lab DDI Baseline assignment.\n",
    "The notebook contains the following sections:\n",
    "\n",
    "- [Analyze function to compute DependencyParsing](#analyze)\n",
    "- [Interaction detection function *check_interaction*](#features)\n",
    "    - [Dependency Tree Analysis Utility functions](#utility)\n",
    "- [Model comparison on Devel dataset](#dev_table_results)\n",
    "- [Model comparison on Test dataset](#test_table_results)\n"
   ]
  },
  {
   "cell_type": "markdown",
   "metadata": {},
   "source": [
    "<a id=\"analyze\"></a>\n",
    "## Analyze function to compute DependencyParsing"
   ]
  },
  {
   "cell_type": "markdown",
   "metadata": {},
   "source": [
    "Function *analyze* takes the sentence text and sends it to an openned instance of the **Stanford CoreNLP Server**, with its wrapper class provided by NLTK. Then the function computes the DependencyGraph object for the text and returns it to be analyzed."
   ]
  },
  {
   "cell_type": "code",
   "execution_count": null,
   "metadata": {},
   "outputs": [],
   "source": [
    "DependencyParser = CoreNLPDependencyParser(url=\"http://localhost:9000\")\n",
    "\n",
    "def analyze(s):\n",
    "    \"\"\"\n",
    "    Analyze Text.\n",
    "    Function which uses an already started Stanford CoreNLP server to analyze\n",
    "    given text, that is tokenize, tag (Part of Speech tag) and parse.\n",
    "    Args:\n",
    "        - text: string with text to analyze.\n",
    "    Returns:\n",
    "        - analysis: output of CoreNLP dependency parser.\n",
    "    \"\"\"\n",
    "    # Dependency Parsing\n",
    "    try:\n",
    "        analysis, = DependencyParser.raw_parse(s)\n",
    "    except Exception:\n",
    "        print(StanfordCoreNLPServer_error)\n",
    "        exit()\n",
    "    # Return analysis\n",
    "    return analysis\n"
   ]
  },
  {
   "cell_type": "markdown",
   "metadata": {},
   "source": [
    "<a id='function'></a>\n",
    "## Interaction detection function *check_interaction*"
   ]
  },
  {
   "cell_type": "markdown",
   "metadata": {},
   "source": [
    "Given a sentence talking about a pair of entities (drug, drug_n, brand, group), we need to devise features to identify if the sentence states an interaction between those entities and, if it did, of which type mechanism, effect, advise or int(eraction).\n",
    "\n",
    "To better detect the semantic relations between the entities, we use Stanford CoreNLP parser to compute a Dependency Parsing tree for each sentence, and analyze the relations in the tree with the pair of entities to detect the DDI.\n",
    "\n",
    "In order to better extract information from the dependency tree we use two utility functions, [see here](#utility). \n",
    "\n",
    "Given a list of DDI type clue words, we find in a dependency tree of a sentence the nodes which contain this clue words, and see if any of the entities in a pair is child of the verb node associated with those clue word nodes. \n",
    "\n",
    "Using this rules, we find which pairs of entities have one entity hanging from a verb which relates with one of the clue words for a certain DDI type, thus having a higher change of being of that DDI type. If none DDI type matches, we assume it is not a DDI (type *null*)."
   ]
  },
  {
   "cell_type": "code",
   "execution_count": 2,
   "metadata": {},
   "outputs": [],
   "source": [
    "def check_interaction(analysis, entitities, e1, e2):\n",
    "    \"\"\"\n",
    "    Check Interaction.\n",
    "    Function to check for interaction of the given pair of entities, by looking\n",
    "    at the parsed (analysed) sentences which contains it together with all the\n",
    "    entities in the sentence.\n",
    "    Args:\n",
    "        - analysis: DependencyGraph object instance with setnence parsed\n",
    "            information.\n",
    "        - entities: dictionary of entities indexed by id with offset as value.\n",
    "        - e1: string with id of the first entity to consider.\n",
    "        - e2: string with id of the second entity to consider.\n",
    "    Return:\n",
    "        - is_ddi: integer with 0/1 value indicating whether the sentence states\n",
    "            an interaction between e1 and e2.\n",
    "        - ddi_type: string with the type of interaction, or null if none.\n",
    "    \"\"\"\n",
    "    is_ddi = False\n",
    "    ddi_type = \"null\"\n",
    "\n",
    "    # Get analysis nodes\n",
    "    nodes = analysis.nodes\n",
    "    # Get entities text\n",
    "    # Split/Lower used to take standard first part of multi-word Drugs\n",
    "    e1_text = entitities[e1][\"text\"].split()[0].lower()\n",
    "    e2_text = entitities[e2][\"text\"].split()[0].lower()\n",
    "\n",
    "    # DDI type clues\n",
    "    advise_clues = [\"should\", \"must\", \"may\", \"recommend\", \"caution\"]\n",
    "    effect_clues = [\"produce\", \"administer\", \"potentiate\", \"prevent\", \"effect\"]\n",
    "    int_clues = [\"interact\", \"interaction\"]\n",
    "    mechanism_clues = [\"reduce\", \"increase\", \"decrease\"]\n",
    "\n",
    "    # Avoid check if entities are the same or almost the same\n",
    "    if e1_text == e2_text or e1_text in e2_text or e2_text in e1_text:\n",
    "        pass\n",
    "\n",
    "    # Check Advise clues\n",
    "    elif any(\n",
    "        is_child(analysis, clue, e1_text) or is_child(analysis, clue, e2_text)\n",
    "        for clue in get_clue_nodes(nodes, advise_clues)\n",
    "    ):\n",
    "        is_ddi = True\n",
    "        ddi_type = \"advise\"\n",
    "\n",
    "    # Check Effect clues\n",
    "    elif any(\n",
    "        is_child(analysis, clue, e1_text) or is_child(analysis, clue, e2_text)\n",
    "        for clue in get_clue_nodes(nodes, effect_clues)\n",
    "    ):\n",
    "        is_ddi = True\n",
    "        ddi_type = \"effect\"\n",
    "\n",
    "    # Check Mechanism clues\n",
    "    elif any(\n",
    "        is_child(analysis, clue, e1_text) or is_child(analysis, clue, e2_text)\n",
    "        for clue in get_clue_nodes(nodes, mechanism_clues)\n",
    "    ):\n",
    "        is_ddi = True\n",
    "        ddi_type = \"mechanism\"\n",
    "\n",
    "    # Check Int clues\n",
    "    elif any(\n",
    "        is_child(analysis, clue, e1_text) or is_child(analysis, clue, e2_text)\n",
    "        for clue in get_clue_nodes(nodes, int_clues)\n",
    "    ):\n",
    "        is_ddi = True\n",
    "        ddi_type = \"int\"\n",
    "\n",
    "    return \"1\" if is_ddi else \"0\", ddi_type\n"
   ]
  },
  {
   "cell_type": "markdown",
   "metadata": {},
   "source": [
    "<a id=\"utility\"></a>\n",
    "### Dependency Tree Analysis Utility functions"
   ]
  },
  {
   "cell_type": "markdown",
   "metadata": {},
   "source": [
    "Utility functions to extract information from dependency tree.\n",
    " - Function **is_child** takes a given node from the depdency tree and checks if there is a child which contains the given text.\n",
    " \n",
    " - Function **get_clue_nodes** takes a given list of clues, finds the nodes in the dependency tree which contain said clues and finds their closest verb ancestors."
   ]
  },
  {
   "cell_type": "code",
   "execution_count": 3,
   "metadata": {},
   "outputs": [],
   "source": [
    "def is_child(analysis, node_index, text):\n",
    "    \"\"\"\n",
    "    Check is child.\n",
    "    Given a DependencyGraph analysis of a sentence, and a node_index for a\n",
    "    certain node of the graph (or None for the root), this function checks if\n",
    "    there is a child which contains the given text.\n",
    "    Args:\n",
    "        - analysis: DependencyGraph object instance with setnence parsed\n",
    "            information.\n",
    "        - node_index: int with node index to check childs from.\n",
    "        - text: text to look for in child nodes.\n",
    "    Returns:\n",
    "        - _: boolean True if text is found in children, False otherwise.\n",
    "    \"\"\"\n",
    "    node = analysis.get_by_address(node_index)\n",
    "    for triple in analysis.triples(node=node):\n",
    "        if text in str(triple[2][0]).lower():\n",
    "            return True\n",
    "    return False\n",
    "\n",
    "\n",
    "def get_clue_nodes(nodes, clues):\n",
    "    \"\"\"\n",
    "    Get Clue Nodes.\n",
    "    Function which gets verb (tag VB*) nodes from which to look for child\n",
    "    entities. Gets a list of possible clue wordst that indicate a certain type\n",
    "    of DDI and returns a list with the closest verb ancestors of the nodes\n",
    "    which contain the clue words.\n",
    "    Args:\n",
    "        - nodes: list of current Dependency Graph nodes.\n",
    "        - clues: list of clue words for a certain type of DDI.\n",
    "    Returns:\n",
    "        - _nodes: list of node dictionaries to search child entities from.\n",
    "    \"\"\"\n",
    "    clue_nodes = [n for n in nodes if nodes[n][\"lemma\"] in clues]\n",
    "    _nodes = []\n",
    "    for clue in clue_nodes:\n",
    "        node = nodes[clue]\n",
    "        while node[\"tag\"] != \"TOP\" and \"VB\" not in node[\"tag\"]:\n",
    "            node = nodes[node[\"head\"]]\n",
    "            if not node[\"tag\"]:\n",
    "                break\n",
    "        _nodes.append(node[\"address\"])\n",
    "    return list(set(_nodes))\n"
   ]
  },
  {
   "cell_type": "markdown",
   "metadata": {},
   "source": [
    "<a id='dev_table_results'></a>\n",
    "## Model comparison on Devel dataset"
   ]
  },
  {
   "cell_type": "markdown",
   "metadata": {},
   "source": [
    "We obtain for the Devel dataset the following metrics:\n",
    "\n",
    "- Precision: 0.1378\n",
    "- Recall: 0.6573\n",
    "- F1: 0.2278\n",
    "\n",
    "We see that although the rules give a high recall, that is we find most of the DDI with their types, we have a very low precision, that is we categorize as DDI lots of pairs that are not. \n",
    "\n",
    "We conclude that the model works well to detect the type of DDI but not well to discern between DDI and non-DDI."
   ]
  },
  {
   "cell_type": "markdown",
   "metadata": {},
   "source": [
    "```\n",
    "SCORES FOR THE GROUP: BASELINE RUN=1\n",
    "Gold Dataset: /Devel\n",
    "\n",
    "Partial Evaluation: only detection of DDI (regadless to the type)\n",
    "tp\tfp\tfn\ttotal\tprec\trecall\tF1\n",
    "421\t1341\t63\t484\t0.2389\t0.8698\t0.3749\n",
    "\n",
    "\n",
    "Detection and Classification of DDI\n",
    "tp\tfp\tfn\ttotal\tprec\trecall\tF1\n",
    "249\t1513\t235\t484\t0.1413\t0.5145\t0.2217\n",
    "\n",
    "\n",
    "________________________________________________________________________\n",
    "\n",
    "SCORES FOR DDI TYPE\n",
    "Scores for ddi with type mechanism\n",
    "tp\tfp\tfn\ttotal\tprec\trecall\tF1\n",
    "99\t222\t102\t201\t0.3084\t0.4925\t0.3793\n",
    "\n",
    "\n",
    "Scores for ddi with type effect\n",
    "tp\tfp\tfn\ttotal\tprec\trecall\tF1\n",
    "48\t379\t114\t162\t0.1124\t0.2963\t0.163\n",
    "\n",
    "\n",
    "Scores for ddi with type advise\n",
    "tp\tfp\tfn\ttotal\tprec\trecall\tF1\n",
    "100\t744\t19\t119\t0.1185\t0.8403\t0.2077\n",
    "\n",
    "\n",
    "Scores for ddi with type int\n",
    "tp\tfp\tfn\ttotal\tprec\trecall\tF1\n",
    "2\t168\t0\t2\t0.0118\t1\t0.0233\n",
    "\n",
    "\n",
    "MACRO-AVERAGE MEASURES:\n",
    "\tP\tR\tF1\n",
    "\t0.1378\t0.6573\t0.2278\n",
    "________________________________________________________________________\n",
    "\n",
    "```"
   ]
  },
  {
   "cell_type": "markdown",
   "metadata": {},
   "source": [
    "<a id='test_table_results'></a>\n",
    "## Model comparison on Test dataset"
   ]
  },
  {
   "cell_type": "markdown",
   "metadata": {},
   "source": [
    "We obtain for the Test dataset the following metrics:\n",
    "\n",
    "- Precision: 0.1246\t\t\n",
    "- Recall: 0.3704\n",
    "- F1: 0.1865\n",
    "\n",
    "We see that compared to the Devel dataset, the recall has decreased but not the precision. All in all, the *F1* score does not decrease much.\n",
    "\n",
    "We conclude the rule generalises well, although it does not discern well between DDI and non-DDI as shown before."
   ]
  },
  {
   "cell_type": "markdown",
   "metadata": {},
   "source": [
    "```\n",
    "SCORES FOR THE GROUP: BASELINE RUN=2\n",
    "Gold Dataset: /Test-DDI\n",
    "\n",
    "Partial Evaluation: only detection of DDI (regadless to the type)\n",
    "tp\tfp\tfn\ttotal\tprec\trecall\tF1\n",
    "778\t2636\t201\t979\t0.2279\t0.7947\t0.3542\n",
    "\n",
    "\n",
    "Detection and Classification of DDI\n",
    "tp\tfp\tfn\ttotal\tprec\trecall\tF1\n",
    "348\t3066\t631\t979\t0.1019\t0.3555\t0.1584\n",
    "\n",
    "\n",
    "________________________________________________________________________\n",
    "\n",
    "SCORES FOR DDI TYPE\n",
    "Scores for ddi with type mechanism\n",
    "tp\tfp\tfn\ttotal\tprec\trecall\tF1\n",
    "76\t232\t226\t302\t0.2468\t0.2517\t0.2492\n",
    "\n",
    "\n",
    "Scores for ddi with type effect\n",
    "tp\tfp\tfn\ttotal\tprec\trecall\tF1\n",
    "68\t504\t292\t360\t0.1189\t0.1889\t0.1459\n",
    "\n",
    "\n",
    "Scores for ddi with type advise\n",
    "tp\tfp\tfn\ttotal\tprec\trecall\tF1\n",
    "184\t1902\t37\t221\t0.0882\t0.8326\t0.1595\n",
    "\n",
    "\n",
    "Scores for ddi with type int\n",
    "tp\tfp\tfn\ttotal\tprec\trecall\tF1\n",
    "20\t428\t76\t96\t0.0446\t0.2083\t0.0735\n",
    "\n",
    "\n",
    "MACRO-AVERAGE MEASURES:\n",
    "\tP\tR\tF1\n",
    "\t0.1246\t0.3704\t0.1865\n",
    "________________________________________________________________________\n",
    "```"
   ]
  }
 ],
 "metadata": {
  "kernelspec": {
   "display_name": "Python 3",
   "language": "python",
   "name": "python3"
  },
  "language_info": {
   "codemirror_mode": {
    "name": "ipython",
    "version": 3
   },
   "file_extension": ".py",
   "mimetype": "text/x-python",
   "name": "python",
   "nbconvert_exporter": "python",
   "pygments_lexer": "ipython3",
   "version": "3.6.9"
  }
 },
 "nbformat": 4,
 "nbformat_minor": 4
}
