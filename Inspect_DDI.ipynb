{
 "cells": [
  {
   "cell_type": "markdown",
   "metadata": {},
   "source": [
    "# Inspect DDI Train data to test rules\n",
    "\n",
    "Notebook to test Parser, rules and features for the DDI Train dataset.\n",
    "\n",
    "> NOTE: StanfordCoreNLP needs to be running on a terminal before using the noteboo. Use the following command:\n",
    "```bash\n",
    "java -mx4g -cp 'resources/stanford-corenlp/*' edu.stanford.nlp.pipeline.StanfordCoreNLPServer\n",
    "```"
   ]
  },
  {
   "cell_type": "code",
   "execution_count": 1,
   "metadata": {},
   "outputs": [],
   "source": [
    "# !/usr/bin/python3\n",
    "from graphviz import Digraph\n",
    "from nltk.parse.corenlp import CoreNLPDependencyParser\n",
    "from os import listdir, system, path, makedirs\n",
    "from xml.dom.minidom import parse"
   ]
  },
  {
   "cell_type": "code",
   "execution_count": 2,
   "metadata": {},
   "outputs": [],
   "source": [
    "inputdir = \"data/Train\"\n",
    "outputfile = \"data/tmp/task9.2_BASELINE_999.txt\"\n",
    "DependencyParser = CoreNLPDependencyParser(url=\"http://localhost:9000\")\n",
    "import DDI_baseline as ddi"
   ]
  },
  {
   "cell_type": "markdown",
   "metadata": {},
   "source": [
    "--------------------------------------\n",
    "--------------------------------------\n",
    "--------------------------------------"
   ]
  },
  {
   "cell_type": "code",
   "execution_count": 3,
   "metadata": {},
   "outputs": [
    {
     "name": "stdout",
     "output_type": "stream",
     "text": [
      "Sentence:\n",
      "The treatment of ewes with an intravenous (IV) injection of trichlorfon, insufficient to produce significant inhibition of erythrocyte acetylcholinesterase (AChE) activity, appeared to produce additive effects with those produced by subsequent treatment with 4 mg of coumaphos/kg/day. \n",
      "\n",
      "{'DDI-MedLine.d1.s6.e0': {'offset': ['60', '70'], 'text': 'trichlorfon'}, 'DDI-MedLine.d1.s6.e1': {'offset': ['267', '275'], 'text': 'coumaphos'}}\n",
      "\n",
      "DDI: True - effect\n"
     ]
    }
   ],
   "source": [
    "s = \"The treatment of ewes with an intravenous (IV) injection of trichlorfon, insufficient to produce significant inhibition of erythrocyte acetylcholinesterase (AChE) activity, appeared to produce additive effects with those produced by subsequent treatment with 4 mg of coumaphos/kg/day. \"\n",
    "entities = {\n",
    "    \"DDI-MedLine.d1.s6.e0\": {\"offset\": \"60-70\".split(\"-\"), \"text\": \"trichlorfon\"},\n",
    "    \"DDI-MedLine.d1.s6.e1\": {\"offset\": \"267-275\".split(\"-\"), \"text\": \"coumaphos\"}\n",
    "}\n",
    "_is_ddi = True\n",
    "_ddi_type = \"effect\"\n",
    "print(f\"Sentence:\\n{s}\")\n",
    "print(f\"\\n{entities}\\n\")\n",
    "print(f\"DDI: {_is_ddi} - {_ddi_type}\")"
   ]
  },
  {
   "cell_type": "code",
   "execution_count": 11,
   "metadata": {},
   "outputs": [
    {
     "data": {
      "text/plain": [
       "defaultdict(<function nltk.parse.dependencygraph.DependencyGraph.__init__.<locals>.<lambda>()>,\n",
       "            {0: {'address': 0,\n",
       "              'word': None,\n",
       "              'lemma': None,\n",
       "              'ctag': 'TOP',\n",
       "              'tag': 'TOP',\n",
       "              'feats': None,\n",
       "              'head': None,\n",
       "              'deps': defaultdict(list, {'ROOT': [7]}),\n",
       "              'rel': None},\n",
       "             1: {'address': 1,\n",
       "              'word': 'Barbiturates',\n",
       "              'lemma': 'barbiturate',\n",
       "              'ctag': 'NNS',\n",
       "              'tag': 'NNS',\n",
       "              'feats': '_',\n",
       "              'head': 7,\n",
       "              'deps': defaultdict(list, {'cc': [2], 'conj': [3]}),\n",
       "              'rel': 'nsubjpass'},\n",
       "             7: {'address': 7,\n",
       "              'word': 'administered',\n",
       "              'lemma': 'administer',\n",
       "              'ctag': 'VBN',\n",
       "              'tag': 'VBN',\n",
       "              'feats': '_',\n",
       "              'head': 0,\n",
       "              'deps': defaultdict(list,\n",
       "                          {'nsubjpass': [1],\n",
       "                           'aux': [4],\n",
       "                           'neg': [5],\n",
       "                           'auxpass': [6],\n",
       "                           'nmod': [9],\n",
       "                           'punct': [13]}),\n",
       "              'rel': 'ROOT'},\n",
       "             2: {'address': 2,\n",
       "              'word': 'and',\n",
       "              'lemma': 'and',\n",
       "              'ctag': 'CC',\n",
       "              'tag': 'CC',\n",
       "              'feats': '_',\n",
       "              'head': 1,\n",
       "              'deps': defaultdict(list, {}),\n",
       "              'rel': 'cc'},\n",
       "             3: {'address': 3,\n",
       "              'word': 'glutethimide',\n",
       "              'lemma': 'glutethimide',\n",
       "              'ctag': 'NN',\n",
       "              'tag': 'NN',\n",
       "              'feats': '_',\n",
       "              'head': 1,\n",
       "              'deps': defaultdict(list, {}),\n",
       "              'rel': 'conj'},\n",
       "             4: {'address': 4,\n",
       "              'word': 'should',\n",
       "              'lemma': 'should',\n",
       "              'ctag': 'MD',\n",
       "              'tag': 'MD',\n",
       "              'feats': '_',\n",
       "              'head': 7,\n",
       "              'deps': defaultdict(list, {}),\n",
       "              'rel': 'aux'},\n",
       "             5: {'address': 5,\n",
       "              'word': 'not',\n",
       "              'lemma': 'not',\n",
       "              'ctag': 'RB',\n",
       "              'tag': 'RB',\n",
       "              'feats': '_',\n",
       "              'head': 7,\n",
       "              'deps': defaultdict(list, {}),\n",
       "              'rel': 'neg'},\n",
       "             6: {'address': 6,\n",
       "              'word': 'be',\n",
       "              'lemma': 'be',\n",
       "              'ctag': 'VB',\n",
       "              'tag': 'VB',\n",
       "              'feats': '_',\n",
       "              'head': 7,\n",
       "              'deps': defaultdict(list, {}),\n",
       "              'rel': 'auxpass'},\n",
       "             8: {'address': 8,\n",
       "              'word': 'to',\n",
       "              'lemma': 'to',\n",
       "              'ctag': 'TO',\n",
       "              'tag': 'TO',\n",
       "              'feats': '_',\n",
       "              'head': 9,\n",
       "              'deps': defaultdict(list, {}),\n",
       "              'rel': 'case'},\n",
       "             9: {'address': 9,\n",
       "              'word': 'patients',\n",
       "              'lemma': 'patient',\n",
       "              'ctag': 'NNS',\n",
       "              'tag': 'NNS',\n",
       "              'feats': '_',\n",
       "              'head': 7,\n",
       "              'deps': defaultdict(list, {'case': [8], 'acl': [10]}),\n",
       "              'rel': 'nmod'},\n",
       "             10: {'address': 10,\n",
       "              'word': 'receiving',\n",
       "              'lemma': 'receive',\n",
       "              'ctag': 'VBG',\n",
       "              'tag': 'VBG',\n",
       "              'feats': '_',\n",
       "              'head': 9,\n",
       "              'deps': defaultdict(list, {'dobj': [12]}),\n",
       "              'rel': 'acl'},\n",
       "             11: {'address': 11,\n",
       "              'word': 'coumarin',\n",
       "              'lemma': 'coumarin',\n",
       "              'ctag': 'NN',\n",
       "              'tag': 'NN',\n",
       "              'feats': '_',\n",
       "              'head': 12,\n",
       "              'deps': defaultdict(list, {}),\n",
       "              'rel': 'compound'},\n",
       "             12: {'address': 12,\n",
       "              'word': 'drugs',\n",
       "              'lemma': 'drug',\n",
       "              'ctag': 'NNS',\n",
       "              'tag': 'NNS',\n",
       "              'feats': '_',\n",
       "              'head': 10,\n",
       "              'deps': defaultdict(list, {'compound': [11]}),\n",
       "              'rel': 'dobj'},\n",
       "             13: {'address': 13,\n",
       "              'word': '.',\n",
       "              'lemma': '.',\n",
       "              'ctag': '.',\n",
       "              'tag': '.',\n",
       "              'feats': '_',\n",
       "              'head': 7,\n",
       "              'deps': defaultdict(list, {}),\n",
       "              'rel': 'punct'}})"
      ]
     },
     "execution_count": 11,
     "metadata": {},
     "output_type": "execute_result"
    }
   ],
   "source": [
    "analysis, = DependencyParser.raw_parse(s)\n",
    "# analysis\n",
    "analysis.nodes"
   ]
  },
  {
   "cell_type": "code",
   "execution_count": 5,
   "metadata": {},
   "outputs": [
    {
     "name": "stdout",
     "output_type": "stream",
     "text": [
      "[17, 30, 35]\n"
     ]
    },
    {
     "data": {
      "text/plain": [
       "{'address': 17,\n",
       " 'word': 'produce',\n",
       " 'lemma': 'produce',\n",
       " 'ctag': 'VB',\n",
       " 'tag': 'VB',\n",
       " 'feats': '_',\n",
       " 'head': 15,\n",
       " 'deps': defaultdict(list, {'mark': [16], 'dobj': [19]}),\n",
       " 'rel': 'xcomp'}"
      ]
     },
     "execution_count": 5,
     "metadata": {},
     "output_type": "execute_result"
    }
   ],
   "source": [
    "nodes = analysis.nodes\n",
    "effect_clues = [\"produce\", \"administer\", \"potentiate\", \"prevent\"]\n",
    "clues = [n for n in nodes if nodes[n]['lemma'] in effect_clues]\n",
    "print(clues)\n",
    "nodes[clues[0]]"
   ]
  },
  {
   "cell_type": "code",
   "execution_count": 6,
   "metadata": {},
   "outputs": [
    {
     "data": {
      "text/plain": [
       "('1', 'effect')"
      ]
     },
     "execution_count": 6,
     "metadata": {},
     "output_type": "execute_result"
    }
   ],
   "source": [
    "e1, e2 = list(entities.keys())\n",
    "ddi.check_interaction(analysis, entities, e1, e2)"
   ]
  },
  {
   "cell_type": "markdown",
   "metadata": {},
   "source": [
    "----------------------------------------\n",
    "----------------------------------------\n",
    "----------------------------------------\n",
    "----------------------------------------"
   ]
  },
  {
   "cell_type": "code",
   "execution_count": 7,
   "metadata": {},
   "outputs": [
    {
     "name": "stdout",
     "output_type": "stream",
     "text": [
      "Sentence:\n",
      "Barbiturates and glutethimide should not be administered to patients receiving coumarin drugs.\n",
      "\n",
      "{'DDI-MedLine.d106.s6.e0': {'offset': ['0', '11'], 'text': 'Barbiturates'}, 'DDI-MedLine.d106.s6.e1': {'offset': ['17', '28'], 'text': 'glutethimide'}, 'DDI-MedLine.d106.s6.e2': {'offset': ['79', '92'], 'text': 'coumarin drugs'}}\n",
      "\n",
      "DDI: True - advise\n"
     ]
    }
   ],
   "source": [
    "s = \"Barbiturates and glutethimide should not be administered to patients receiving coumarin drugs.\"\n",
    "entities = {\n",
    "    \"DDI-MedLine.d106.s6.e0\": {\"offset\": \"0-11\".split(\"-\"), \"text\": \"Barbiturates\"},\n",
    "    \"DDI-MedLine.d106.s6.e1\": {\"offset\": \"17-28\".split(\"-\"), \"text\": \"glutethimide\"},\n",
    "    \"DDI-MedLine.d106.s6.e2\": {\"offset\": \"79-92\".split(\"-\"), \"text\": \"coumarin drugs\"}\n",
    "}\n",
    "_is_ddi = True\n",
    "_ddi_type = \"advise\"\n",
    "print(f\"Sentence:\\n{s}\")\n",
    "print(f\"\\n{entities}\\n\")\n",
    "print(f\"DDI: {_is_ddi} - {_ddi_type}\")"
   ]
  },
  {
   "cell_type": "code",
   "execution_count": 8,
   "metadata": {},
   "outputs": [],
   "source": [
    "analysis, = DependencyParser.raw_parse(s)\n",
    "# analysis"
   ]
  },
  {
   "cell_type": "code",
   "execution_count": 9,
   "metadata": {},
   "outputs": [
    {
     "data": {
      "text/plain": [
       "('1', 'advise')"
      ]
     },
     "execution_count": 9,
     "metadata": {},
     "output_type": "execute_result"
    }
   ],
   "source": [
    "e1, e2, e3 = list(entities.keys())\n",
    "ddi.check_interaction(analysis, entities, e1, e3)"
   ]
  },
  {
   "cell_type": "code",
   "execution_count": 10,
   "metadata": {},
   "outputs": [
    {
     "data": {
      "text/plain": [
       "('1', 'advise')"
      ]
     },
     "execution_count": 10,
     "metadata": {},
     "output_type": "execute_result"
    }
   ],
   "source": [
    "ddi.check_interaction(analysis, entities, e2, e3)"
   ]
  }
 ],
 "metadata": {
  "kernelspec": {
   "display_name": "Python 3",
   "language": "python",
   "name": "python3"
  },
  "language_info": {
   "codemirror_mode": {
    "name": "ipython",
    "version": 3
   },
   "file_extension": ".py",
   "mimetype": "text/x-python",
   "name": "python",
   "nbconvert_exporter": "python",
   "pygments_lexer": "ipython3",
   "version": "3.6.9"
  }
 },
 "nbformat": 4,
 "nbformat_minor": 4
}
