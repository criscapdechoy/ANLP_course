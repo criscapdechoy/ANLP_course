{
 "cells": [
  {
   "cell_type": "markdown",
   "metadata": {},
   "source": [
    "# Inspect DDI Train data to test rules\n",
    "\n",
    "Notebook to test Parser, rules and features for the DDI Train dataset.\n",
    "\n",
    "> NOTE: StanfordCoreNLP needs to be running on a terminal before using the noteboo. Use the following command:\n",
    "```bash\n",
    "java -mx4g -cp 'resources/stanford-corenlp/*' edu.stanford.nlp.pipeline.StanfordCoreNLPServer\n",
    "```"
   ]
  },
  {
   "cell_type": "code",
   "execution_count": 1,
   "metadata": {},
   "outputs": [],
   "source": [
    "# !/usr/bin/python3\n",
    "from graphviz import Digraph\n",
    "from nltk.parse.corenlp import CoreNLPDependencyParser\n",
    "from os import listdir, system, path, makedirs\n",
    "from xml.dom.minidom import parse"
   ]
  },
  {
   "cell_type": "code",
   "execution_count": 2,
   "metadata": {},
   "outputs": [],
   "source": [
    "inputdir = \"data/Train\"\n",
    "outputfile = \"data/tmp/task9.2_BASELINE_999.txt\"\n",
    "DependencyParser = CoreNLPDependencyParser(url=\"http://localhost:9000\")\n",
    "import DDI_baseline as ddi"
   ]
  },
  {
   "cell_type": "markdown",
   "metadata": {},
   "source": [
    "--------------------------------------\n",
    "--------------------------------------\n",
    "--------------------------------------"
   ]
  },
  {
   "cell_type": "code",
   "execution_count": 3,
   "metadata": {},
   "outputs": [
    {
     "name": "stdout",
     "output_type": "stream",
     "text": [
      "Sentence:\n",
      "The treatment of ewes with an intravenous (IV) injection of trichlorfon, insufficient to produce significant inhibition of erythrocyte acetylcholinesterase (AChE) activity, appeared to produce additive effects with those produced by subsequent treatment with 4 mg of coumaphos/kg/day. \n",
      "\n",
      "{'DDI-MedLine.d1.s6.e0': {'offset': ['60', '70'], 'text': 'trichlorfon'}, 'DDI-MedLine.d1.s6.e1': {'offset': ['267', '275'], 'text': 'coumaphos'}}\n",
      "\n",
      "DDI: True - effect\n"
     ]
    }
   ],
   "source": [
    "s = \"The treatment of ewes with an intravenous (IV) injection of trichlorfon, insufficient to produce significant inhibition of erythrocyte acetylcholinesterase (AChE) activity, appeared to produce additive effects with those produced by subsequent treatment with 4 mg of coumaphos/kg/day. \"\n",
    "entities = {\n",
    "    \"DDI-MedLine.d1.s6.e0\": {\"offset\": \"60-70\".split(\"-\"), \"text\": \"trichlorfon\"},\n",
    "    \"DDI-MedLine.d1.s6.e1\": {\"offset\": \"267-275\".split(\"-\"), \"text\": \"coumaphos\"}\n",
    "}\n",
    "_is_ddi = True\n",
    "_ddi_type = \"effect\"\n",
    "print(f\"Sentence:\\n{s}\")\n",
    "print(f\"\\n{entities}\\n\")\n",
    "print(f\"DDI: {_is_ddi} - {_ddi_type}\")"
   ]
  },
  {
   "cell_type": "code",
   "execution_count": 4,
   "metadata": {},
   "outputs": [
    {
     "ename": "Exception",
     "evalue": "Cannot find the dot binary from Graphviz package",
     "output_type": "error",
     "traceback": [
      "\u001b[0;31m---------------------------------------------------------------------------\u001b[0m",
      "\u001b[0;31mFileNotFoundError\u001b[0m                         Traceback (most recent call last)",
      "\u001b[0;32m~/Documents/Git/ANLP_course/anlp/lib/python3.7/site-packages/nltk/parse/dependencygraph.py\u001b[0m in \u001b[0;36m_repr_svg_\u001b[0;34m(self)\u001b[0m\n\u001b[1;32m    212\u001b[0m                 \u001b[0mstderr\u001b[0m\u001b[0;34m=\u001b[0m\u001b[0msubprocess\u001b[0m\u001b[0;34m.\u001b[0m\u001b[0mPIPE\u001b[0m\u001b[0;34m,\u001b[0m\u001b[0;34m\u001b[0m\u001b[0m\n\u001b[0;32m--> 213\u001b[0;31m                 \u001b[0muniversal_newlines\u001b[0m\u001b[0;34m=\u001b[0m\u001b[0;32mTrue\u001b[0m\u001b[0;34m,\u001b[0m\u001b[0;34m\u001b[0m\u001b[0m\n\u001b[0m\u001b[1;32m    214\u001b[0m             )\n",
      "\u001b[0;32m/Library/Frameworks/Python.framework/Versions/3.7/lib/python3.7/subprocess.py\u001b[0m in \u001b[0;36m__init__\u001b[0;34m(self, args, bufsize, executable, stdin, stdout, stderr, preexec_fn, close_fds, shell, cwd, env, universal_newlines, startupinfo, creationflags, restore_signals, start_new_session, pass_fds, encoding, errors, text)\u001b[0m\n\u001b[1;32m    755\u001b[0m                                 \u001b[0merrread\u001b[0m\u001b[0;34m,\u001b[0m \u001b[0merrwrite\u001b[0m\u001b[0;34m,\u001b[0m\u001b[0;34m\u001b[0m\u001b[0m\n\u001b[0;32m--> 756\u001b[0;31m                                 restore_signals, start_new_session)\n\u001b[0m\u001b[1;32m    757\u001b[0m         \u001b[0;32mexcept\u001b[0m\u001b[0;34m:\u001b[0m\u001b[0;34m\u001b[0m\u001b[0m\n",
      "\u001b[0;32m/Library/Frameworks/Python.framework/Versions/3.7/lib/python3.7/subprocess.py\u001b[0m in \u001b[0;36m_execute_child\u001b[0;34m(self, args, executable, preexec_fn, close_fds, pass_fds, cwd, env, startupinfo, creationflags, shell, p2cread, p2cwrite, c2pread, c2pwrite, errread, errwrite, restore_signals, start_new_session)\u001b[0m\n\u001b[1;32m   1498\u001b[0m                             \u001b[0merr_msg\u001b[0m \u001b[0;34m+=\u001b[0m \u001b[0;34m': '\u001b[0m \u001b[0;34m+\u001b[0m \u001b[0mrepr\u001b[0m\u001b[0;34m(\u001b[0m\u001b[0merr_filename\u001b[0m\u001b[0;34m)\u001b[0m\u001b[0;34m\u001b[0m\u001b[0m\n\u001b[0;32m-> 1499\u001b[0;31m                     \u001b[0;32mraise\u001b[0m \u001b[0mchild_exception_type\u001b[0m\u001b[0;34m(\u001b[0m\u001b[0merrno_num\u001b[0m\u001b[0;34m,\u001b[0m \u001b[0merr_msg\u001b[0m\u001b[0;34m,\u001b[0m \u001b[0merr_filename\u001b[0m\u001b[0;34m)\u001b[0m\u001b[0;34m\u001b[0m\u001b[0m\n\u001b[0m\u001b[1;32m   1500\u001b[0m                 \u001b[0;32mraise\u001b[0m \u001b[0mchild_exception_type\u001b[0m\u001b[0;34m(\u001b[0m\u001b[0merr_msg\u001b[0m\u001b[0;34m)\u001b[0m\u001b[0;34m\u001b[0m\u001b[0m\n",
      "\u001b[0;31mFileNotFoundError\u001b[0m: [Errno 2] No such file or directory: 'dot': 'dot'",
      "\nDuring handling of the above exception, another exception occurred:\n",
      "\u001b[0;31mException\u001b[0m                                 Traceback (most recent call last)",
      "\u001b[0;32m~/Documents/Git/ANLP_course/anlp/lib/python3.7/site-packages/IPython/core/formatters.py\u001b[0m in \u001b[0;36m__call__\u001b[0;34m(self, obj)\u001b[0m\n\u001b[1;32m    343\u001b[0m             \u001b[0mmethod\u001b[0m \u001b[0;34m=\u001b[0m \u001b[0mget_real_method\u001b[0m\u001b[0;34m(\u001b[0m\u001b[0mobj\u001b[0m\u001b[0;34m,\u001b[0m \u001b[0mself\u001b[0m\u001b[0;34m.\u001b[0m\u001b[0mprint_method\u001b[0m\u001b[0;34m)\u001b[0m\u001b[0;34m\u001b[0m\u001b[0m\n\u001b[1;32m    344\u001b[0m             \u001b[0;32mif\u001b[0m \u001b[0mmethod\u001b[0m \u001b[0;32mis\u001b[0m \u001b[0;32mnot\u001b[0m \u001b[0;32mNone\u001b[0m\u001b[0;34m:\u001b[0m\u001b[0;34m\u001b[0m\u001b[0m\n\u001b[0;32m--> 345\u001b[0;31m                 \u001b[0;32mreturn\u001b[0m \u001b[0mmethod\u001b[0m\u001b[0;34m(\u001b[0m\u001b[0;34m)\u001b[0m\u001b[0;34m\u001b[0m\u001b[0m\n\u001b[0m\u001b[1;32m    346\u001b[0m             \u001b[0;32mreturn\u001b[0m \u001b[0;32mNone\u001b[0m\u001b[0;34m\u001b[0m\u001b[0m\n\u001b[1;32m    347\u001b[0m         \u001b[0;32melse\u001b[0m\u001b[0;34m:\u001b[0m\u001b[0;34m\u001b[0m\u001b[0m\n",
      "\u001b[0;32m~/Documents/Git/ANLP_course/anlp/lib/python3.7/site-packages/nltk/parse/dependencygraph.py\u001b[0m in \u001b[0;36m_repr_svg_\u001b[0;34m(self)\u001b[0m\n\u001b[1;32m    214\u001b[0m             )\n\u001b[1;32m    215\u001b[0m         \u001b[0;32mexcept\u001b[0m \u001b[0mOSError\u001b[0m\u001b[0;34m:\u001b[0m\u001b[0;34m\u001b[0m\u001b[0m\n\u001b[0;32m--> 216\u001b[0;31m             \u001b[0;32mraise\u001b[0m \u001b[0mException\u001b[0m\u001b[0;34m(\u001b[0m\u001b[0;34m'Cannot find the dot binary from Graphviz package'\u001b[0m\u001b[0;34m)\u001b[0m\u001b[0;34m\u001b[0m\u001b[0m\n\u001b[0m\u001b[1;32m    217\u001b[0m         \u001b[0mout\u001b[0m\u001b[0;34m,\u001b[0m \u001b[0merr\u001b[0m \u001b[0;34m=\u001b[0m \u001b[0mprocess\u001b[0m\u001b[0;34m.\u001b[0m\u001b[0mcommunicate\u001b[0m\u001b[0;34m(\u001b[0m\u001b[0mdot_string\u001b[0m\u001b[0;34m)\u001b[0m\u001b[0;34m\u001b[0m\u001b[0m\n\u001b[1;32m    218\u001b[0m         \u001b[0;32mif\u001b[0m \u001b[0merr\u001b[0m\u001b[0;34m:\u001b[0m\u001b[0;34m\u001b[0m\u001b[0m\n",
      "\u001b[0;31mException\u001b[0m: Cannot find the dot binary from Graphviz package"
     ]
    },
    {
     "data": {
      "text/plain": [
       "<DependencyGraph with 45 nodes>"
      ]
     },
     "execution_count": 4,
     "metadata": {},
     "output_type": "execute_result"
    }
   ],
   "source": [
    "analysis, = DependencyParser.raw_parse(s)\n",
    "analysis"
   ]
  },
  {
   "cell_type": "code",
   "execution_count": 5,
   "metadata": {},
   "outputs": [
    {
     "name": "stdout",
     "output_type": "stream",
     "text": [
      "[17, 30, 35]\n"
     ]
    },
    {
     "data": {
      "text/plain": [
       "{'address': 17,\n",
       " 'word': 'produce',\n",
       " 'lemma': 'produce',\n",
       " 'ctag': 'VB',\n",
       " 'tag': 'VB',\n",
       " 'feats': '_',\n",
       " 'head': 15,\n",
       " 'deps': defaultdict(list, {'mark': [16], 'dobj': [19]}),\n",
       " 'rel': 'xcomp'}"
      ]
     },
     "execution_count": 5,
     "metadata": {},
     "output_type": "execute_result"
    }
   ],
   "source": [
    "nodes = analysis.nodes\n",
    "effect_clues = [\"produce\", \"administer\", \"potentiate\", \"prevent\"]\n",
    "clues = [n for n in nodes if nodes[n]['lemma'] in effect_clues]\n",
    "print(clues)\n",
    "nodes[clues[0]]"
   ]
  },
  {
   "cell_type": "code",
   "execution_count": 6,
   "metadata": {},
   "outputs": [
    {
     "data": {
      "text/plain": [
       "('1', 'effect')"
      ]
     },
     "execution_count": 6,
     "metadata": {},
     "output_type": "execute_result"
    }
   ],
   "source": [
    "e1, e2 = list(entities.keys())\n",
    "ddi.check_interaction(analysis, entities, e1, e2)"
   ]
  },
  {
   "cell_type": "markdown",
   "metadata": {},
   "source": [
    "----------------------------------------\n",
    "----------------------------------------\n",
    "----------------------------------------\n",
    "----------------------------------------"
   ]
  },
  {
   "cell_type": "code",
   "execution_count": 7,
   "metadata": {},
   "outputs": [
    {
     "name": "stdout",
     "output_type": "stream",
     "text": [
      "Sentence:\n",
      "Barbiturates and glutethimide should not be administered to patients receiving coumarin drugs.\n",
      "\n",
      "{'DDI-MedLine.d106.s6.e0': {'offset': ['0', '11'], 'text': 'Barbiturates'}, 'DDI-MedLine.d106.s6.e1': {'offset': ['17', '28'], 'text': 'glutethimide'}, 'DDI-MedLine.d106.s6.e2': {'offset': ['79', '92'], 'text': 'coumarin drugs'}}\n",
      "\n",
      "DDI: True - advise\n"
     ]
    }
   ],
   "source": [
    "s = \"Barbiturates and glutethimide should not be administered to patients receiving coumarin drugs.\"\n",
    "entities = {\n",
    "    \"DDI-MedLine.d106.s6.e0\": {\"offset\": \"0-11\".split(\"-\"), \"text\": \"Barbiturates\"},\n",
    "    \"DDI-MedLine.d106.s6.e1\": {\"offset\": \"17-28\".split(\"-\"), \"text\": \"glutethimide\"},\n",
    "    \"DDI-MedLine.d106.s6.e2\": {\"offset\": \"79-92\".split(\"-\"), \"text\": \"coumarin drugs\"}\n",
    "}\n",
    "_is_ddi = True\n",
    "_ddi_type = \"advise\"\n",
    "print(f\"Sentence:\\n{s}\")\n",
    "print(f\"\\n{entities}\\n\")\n",
    "print(f\"DDI: {_is_ddi} - {_ddi_type}\")"
   ]
  },
  {
   "cell_type": "code",
   "execution_count": 8,
   "metadata": {},
   "outputs": [
    {
     "data": {
      "image/svg+xml": [
       "<?xml version=\"1.0\" encoding=\"UTF-8\" standalone=\"no\"?>\n",
       "<!DOCTYPE svg PUBLIC \"-//W3C//DTD SVG 1.1//EN\"\n",
       " \"http://www.w3.org/Graphics/SVG/1.1/DTD/svg11.dtd\">\n",
       "<!-- Generated by graphviz version 2.40.1 (20161225.0304)\n",
       " -->\n",
       "<!-- Title: G Pages: 1 -->\n",
       "<svg width=\"542pt\" height=\"479pt\"\n",
       " viewBox=\"0.00 0.00 542.00 479.00\" xmlns=\"http://www.w3.org/2000/svg\" xmlns:xlink=\"http://www.w3.org/1999/xlink\">\n",
       "<g id=\"graph0\" class=\"graph\" transform=\"scale(1 1) rotate(0) translate(4 475)\">\n",
       "<title>G</title>\n",
       "<polygon fill=\"#ffffff\" stroke=\"transparent\" points=\"-4,4 -4,-475 538,-475 538,4 -4,4\"/>\n",
       "<!-- 0 -->\n",
       "<g id=\"node1\" class=\"node\">\n",
       "<title>0</title>\n",
       "<text text-anchor=\"middle\" x=\"299\" y=\"-449.3\" font-family=\"Times,serif\" font-size=\"14.00\" fill=\"#000000\">0 (None)</text>\n",
       "</g>\n",
       "<!-- 7 -->\n",
       "<g id=\"node2\" class=\"node\">\n",
       "<title>7</title>\n",
       "<text text-anchor=\"middle\" x=\"299\" y=\"-362.3\" font-family=\"Times,serif\" font-size=\"14.00\" fill=\"#000000\">7 (administered)</text>\n",
       "</g>\n",
       "<!-- 0&#45;&gt;7 -->\n",
       "<g id=\"edge1\" class=\"edge\">\n",
       "<title>0&#45;&gt;7</title>\n",
       "<path fill=\"none\" stroke=\"#000000\" d=\"M299,-434.9735C299,-423.1918 299,-407.5607 299,-394.1581\"/>\n",
       "<polygon fill=\"#000000\" stroke=\"#000000\" points=\"302.5001,-394.0033 299,-384.0034 295.5001,-394.0034 302.5001,-394.0033\"/>\n",
       "<text text-anchor=\"middle\" x=\"317.5\" y=\"-405.8\" font-family=\"Times,serif\" font-size=\"14.00\" fill=\"#000000\">ROOT</text>\n",
       "</g>\n",
       "<!-- 1 -->\n",
       "<g id=\"node3\" class=\"node\">\n",
       "<title>1</title>\n",
       "<text text-anchor=\"middle\" x=\"77\" y=\"-275.3\" font-family=\"Times,serif\" font-size=\"14.00\" fill=\"#000000\">1 (Barbiturates)</text>\n",
       "</g>\n",
       "<!-- 7&#45;&gt;1 -->\n",
       "<g id=\"edge4\" class=\"edge\">\n",
       "<title>7&#45;&gt;1</title>\n",
       "<path fill=\"none\" stroke=\"#000000\" d=\"M245.4303,-352.5012C223.8643,-346.4732 198.95,-338.7487 177,-330 156.9588,-322.0121 135.5507,-311.3957 117.7055,-301.9179\"/>\n",
       "<polygon fill=\"#000000\" stroke=\"#000000\" points=\"119.1891,-298.7417 108.7245,-297.0853 115.8721,-304.9059 119.1891,-298.7417\"/>\n",
       "<text text-anchor=\"middle\" x=\"203.5\" y=\"-318.8\" font-family=\"Times,serif\" font-size=\"14.00\" fill=\"#000000\">nsubjpass</text>\n",
       "</g>\n",
       "<!-- 4 -->\n",
       "<g id=\"node6\" class=\"node\">\n",
       "<title>4</title>\n",
       "<text text-anchor=\"middle\" x=\"182\" y=\"-275.3\" font-family=\"Times,serif\" font-size=\"14.00\" fill=\"#000000\">4 (should)</text>\n",
       "</g>\n",
       "<!-- 7&#45;&gt;4 -->\n",
       "<g id=\"edge5\" class=\"edge\">\n",
       "<title>7&#45;&gt;4</title>\n",
       "<path fill=\"none\" stroke=\"#000000\" d=\"M274.7575,-347.9735C257.2659,-334.9669 233.4652,-317.269 214.3527,-303.0571\"/>\n",
       "<polygon fill=\"#000000\" stroke=\"#000000\" points=\"216.3245,-300.1618 206.2114,-297.0034 212.1476,-305.7791 216.3245,-300.1618\"/>\n",
       "<text text-anchor=\"middle\" x=\"258\" y=\"-318.8\" font-family=\"Times,serif\" font-size=\"14.00\" fill=\"#000000\">aux</text>\n",
       "</g>\n",
       "<!-- 5 -->\n",
       "<g id=\"node7\" class=\"node\">\n",
       "<title>5</title>\n",
       "<text text-anchor=\"middle\" x=\"263\" y=\"-275.3\" font-family=\"Times,serif\" font-size=\"14.00\" fill=\"#000000\">5 (not)</text>\n",
       "</g>\n",
       "<!-- 7&#45;&gt;5 -->\n",
       "<g id=\"edge6\" class=\"edge\">\n",
       "<title>7&#45;&gt;5</title>\n",
       "<path fill=\"none\" stroke=\"#000000\" d=\"M291.5408,-347.9735C286.569,-335.9585 279.9407,-319.9401 274.3233,-306.3646\"/>\n",
       "<polygon fill=\"#000000\" stroke=\"#000000\" points=\"277.5073,-304.9053 270.4497,-297.0034 271.0392,-307.5818 277.5073,-304.9053\"/>\n",
       "<text text-anchor=\"middle\" x=\"294\" y=\"-318.8\" font-family=\"Times,serif\" font-size=\"14.00\" fill=\"#000000\">neg</text>\n",
       "</g>\n",
       "<!-- 6 -->\n",
       "<g id=\"node8\" class=\"node\">\n",
       "<title>6</title>\n",
       "<text text-anchor=\"middle\" x=\"335\" y=\"-275.3\" font-family=\"Times,serif\" font-size=\"14.00\" fill=\"#000000\">6 (be)</text>\n",
       "</g>\n",
       "<!-- 7&#45;&gt;6 -->\n",
       "<g id=\"edge7\" class=\"edge\">\n",
       "<title>7&#45;&gt;6</title>\n",
       "<path fill=\"none\" stroke=\"#000000\" d=\"M306.4592,-347.9735C311.431,-335.9585 318.0593,-319.9401 323.6767,-306.3646\"/>\n",
       "<polygon fill=\"#000000\" stroke=\"#000000\" points=\"326.9608,-307.5818 327.5503,-297.0034 320.4927,-304.9053 326.9608,-307.5818\"/>\n",
       "<text text-anchor=\"middle\" x=\"341.5\" y=\"-318.8\" font-family=\"Times,serif\" font-size=\"14.00\" fill=\"#000000\">auxpass</text>\n",
       "</g>\n",
       "<!-- 9 -->\n",
       "<g id=\"node9\" class=\"node\">\n",
       "<title>9</title>\n",
       "<text text-anchor=\"middle\" x=\"419\" y=\"-275.3\" font-family=\"Times,serif\" font-size=\"14.00\" fill=\"#000000\">9 (patients)</text>\n",
       "</g>\n",
       "<!-- 7&#45;&gt;9 -->\n",
       "<g id=\"edge8\" class=\"edge\">\n",
       "<title>7&#45;&gt;9</title>\n",
       "<path fill=\"none\" stroke=\"#000000\" d=\"M337.9289,-347.8637C347.7553,-342.6282 358.0498,-336.5435 367,-330 377.1058,-322.6117 387.1721,-313.3106 395.7181,-304.6812\"/>\n",
       "<polygon fill=\"#000000\" stroke=\"#000000\" points=\"398.3788,-306.964 402.7996,-297.3355 393.3393,-302.1057 398.3788,-306.964\"/>\n",
       "<text text-anchor=\"middle\" x=\"400\" y=\"-318.8\" font-family=\"Times,serif\" font-size=\"14.00\" fill=\"#000000\">nmod</text>\n",
       "</g>\n",
       "<!-- 13 -->\n",
       "<g id=\"node10\" class=\"node\">\n",
       "<title>13</title>\n",
       "<text text-anchor=\"middle\" x=\"503\" y=\"-275.3\" font-family=\"Times,serif\" font-size=\"14.00\" fill=\"#000000\">13 (.)</text>\n",
       "</g>\n",
       "<!-- 7&#45;&gt;13 -->\n",
       "<g id=\"edge9\" class=\"edge\">\n",
       "<title>7&#45;&gt;13</title>\n",
       "<path fill=\"none\" stroke=\"#000000\" d=\"M352.795,-353.247C374.1667,-347.349 398.6878,-339.5195 420,-330 436.7523,-322.5172 454.2115,-312.2179 468.7701,-302.8328\"/>\n",
       "<polygon fill=\"#000000\" stroke=\"#000000\" points=\"470.9947,-305.559 477.4278,-297.1408 467.1491,-299.7098 470.9947,-305.559\"/>\n",
       "<text text-anchor=\"middle\" x=\"464.5\" y=\"-318.8\" font-family=\"Times,serif\" font-size=\"14.00\" fill=\"#000000\">punct</text>\n",
       "</g>\n",
       "<!-- 2 -->\n",
       "<g id=\"node4\" class=\"node\">\n",
       "<title>2</title>\n",
       "<text text-anchor=\"middle\" x=\"28\" y=\"-188.3\" font-family=\"Times,serif\" font-size=\"14.00\" fill=\"#000000\">2 (and)</text>\n",
       "</g>\n",
       "<!-- 1&#45;&gt;2 -->\n",
       "<g id=\"edge2\" class=\"edge\">\n",
       "<title>1&#45;&gt;2</title>\n",
       "<path fill=\"none\" stroke=\"#000000\" d=\"M66.8472,-260.9735C60.0144,-248.8418 50.8828,-232.6287 43.1899,-218.9698\"/>\n",
       "<polygon fill=\"#000000\" stroke=\"#000000\" points=\"46.0968,-216.9989 38.1398,-210.0034 39.9977,-220.4341 46.0968,-216.9989\"/>\n",
       "<text text-anchor=\"middle\" x=\"62.5\" y=\"-231.8\" font-family=\"Times,serif\" font-size=\"14.00\" fill=\"#000000\">cc</text>\n",
       "</g>\n",
       "<!-- 3 -->\n",
       "<g id=\"node5\" class=\"node\">\n",
       "<title>3</title>\n",
       "<text text-anchor=\"middle\" x=\"127\" y=\"-188.3\" font-family=\"Times,serif\" font-size=\"14.00\" fill=\"#000000\">3 (glutethimide)</text>\n",
       "</g>\n",
       "<!-- 1&#45;&gt;3 -->\n",
       "<g id=\"edge3\" class=\"edge\">\n",
       "<title>1&#45;&gt;3</title>\n",
       "<path fill=\"none\" stroke=\"#000000\" d=\"M87.36,-260.9735C94.3323,-248.8418 103.6502,-232.6287 111.5001,-218.9698\"/>\n",
       "<polygon fill=\"#000000\" stroke=\"#000000\" points=\"114.7049,-220.4175 116.6532,-210.0034 108.6358,-216.9295 114.7049,-220.4175\"/>\n",
       "<text text-anchor=\"middle\" x=\"117\" y=\"-231.8\" font-family=\"Times,serif\" font-size=\"14.00\" fill=\"#000000\">conj</text>\n",
       "</g>\n",
       "<!-- 8 -->\n",
       "<g id=\"node11\" class=\"node\">\n",
       "<title>8</title>\n",
       "<text text-anchor=\"middle\" x=\"384\" y=\"-188.3\" font-family=\"Times,serif\" font-size=\"14.00\" fill=\"#000000\">8 (to)</text>\n",
       "</g>\n",
       "<!-- 9&#45;&gt;8 -->\n",
       "<g id=\"edge10\" class=\"edge\">\n",
       "<title>9&#45;&gt;8</title>\n",
       "<path fill=\"none\" stroke=\"#000000\" d=\"M411.748,-260.9735C406.9143,-248.9585 400.4702,-232.9401 395.0087,-219.3646\"/>\n",
       "<polygon fill=\"#000000\" stroke=\"#000000\" points=\"398.2222,-217.9744 391.2427,-210.0034 391.728,-220.5871 398.2222,-217.9744\"/>\n",
       "<text text-anchor=\"middle\" x=\"416\" y=\"-231.8\" font-family=\"Times,serif\" font-size=\"14.00\" fill=\"#000000\">case</text>\n",
       "</g>\n",
       "<!-- 10 -->\n",
       "<g id=\"node12\" class=\"node\">\n",
       "<title>10</title>\n",
       "<text text-anchor=\"middle\" x=\"476\" y=\"-188.3\" font-family=\"Times,serif\" font-size=\"14.00\" fill=\"#000000\">10 (receiving)</text>\n",
       "</g>\n",
       "<!-- 9&#45;&gt;10 -->\n",
       "<g id=\"edge11\" class=\"edge\">\n",
       "<title>9&#45;&gt;10</title>\n",
       "<path fill=\"none\" stroke=\"#000000\" d=\"M430.8104,-260.9735C438.8352,-248.7252 449.5857,-232.3165 458.5878,-218.5766\"/>\n",
       "<polygon fill=\"#000000\" stroke=\"#000000\" points=\"461.652,-220.2861 464.2047,-210.0034 455.7968,-216.4499 461.652,-220.2861\"/>\n",
       "<text text-anchor=\"middle\" x=\"459\" y=\"-231.8\" font-family=\"Times,serif\" font-size=\"14.00\" fill=\"#000000\">acl</text>\n",
       "</g>\n",
       "<!-- 12 -->\n",
       "<g id=\"node13\" class=\"node\">\n",
       "<title>12</title>\n",
       "<text text-anchor=\"middle\" x=\"476\" y=\"-101.3\" font-family=\"Times,serif\" font-size=\"14.00\" fill=\"#000000\">12 (drugs)</text>\n",
       "</g>\n",
       "<!-- 10&#45;&gt;12 -->\n",
       "<g id=\"edge12\" class=\"edge\">\n",
       "<title>10&#45;&gt;12</title>\n",
       "<path fill=\"none\" stroke=\"#000000\" d=\"M476,-173.9735C476,-162.1918 476,-146.5607 476,-133.1581\"/>\n",
       "<polygon fill=\"#000000\" stroke=\"#000000\" points=\"479.5001,-133.0033 476,-123.0034 472.5001,-133.0034 479.5001,-133.0033\"/>\n",
       "<text text-anchor=\"middle\" x=\"488.5\" y=\"-144.8\" font-family=\"Times,serif\" font-size=\"14.00\" fill=\"#000000\">dobj</text>\n",
       "</g>\n",
       "<!-- 11 -->\n",
       "<g id=\"node14\" class=\"node\">\n",
       "<title>11</title>\n",
       "<text text-anchor=\"middle\" x=\"476\" y=\"-14.3\" font-family=\"Times,serif\" font-size=\"14.00\" fill=\"#000000\">11 (coumarin)</text>\n",
       "</g>\n",
       "<!-- 12&#45;&gt;11 -->\n",
       "<g id=\"edge13\" class=\"edge\">\n",
       "<title>12&#45;&gt;11</title>\n",
       "<path fill=\"none\" stroke=\"#000000\" d=\"M476,-86.9735C476,-75.1918 476,-59.5607 476,-46.1581\"/>\n",
       "<polygon fill=\"#000000\" stroke=\"#000000\" points=\"479.5001,-46.0033 476,-36.0034 472.5001,-46.0034 479.5001,-46.0033\"/>\n",
       "<text text-anchor=\"middle\" x=\"505\" y=\"-57.8\" font-family=\"Times,serif\" font-size=\"14.00\" fill=\"#000000\">compound</text>\n",
       "</g>\n",
       "</g>\n",
       "</svg>\n"
      ],
      "text/plain": [
       "<DependencyGraph with 14 nodes>"
      ]
     },
     "execution_count": 8,
     "metadata": {},
     "output_type": "execute_result"
    }
   ],
   "source": [
    "analysis, = DependencyParser.raw_parse(s)\n",
    "analysis"
   ]
  },
  {
   "cell_type": "code",
   "execution_count": 9,
   "metadata": {},
   "outputs": [
    {
     "data": {
      "text/plain": [
       "('1', 'advise')"
      ]
     },
     "execution_count": 9,
     "metadata": {},
     "output_type": "execute_result"
    }
   ],
   "source": [
    "e1, e2, e3 = list(entities.keys())\n",
    "ddi.check_interaction(analysis, entities, e1, e3)"
   ]
  },
  {
   "cell_type": "code",
   "execution_count": 10,
   "metadata": {},
   "outputs": [
    {
     "data": {
      "text/plain": [
       "('1', 'advise')"
      ]
     },
     "execution_count": 10,
     "metadata": {},
     "output_type": "execute_result"
    }
   ],
   "source": [
    "ddi.check_interaction(analysis, entities, e2, e3)"
   ]
  },
  {
   "cell_type": "code",
   "execution_count": 34,
   "metadata": {},
   "outputs": [
    {
     "name": "stdout",
     "output_type": "stream",
     "text": [
      "Sentence:\n",
      "Caution should be exercised when combining resorcinol or salicylic acid with DIFFERIN Gel\n",
      "\n",
      "{'DDI-MedLine.d106.s6.e0': {'offset': ['43', '53'], 'text': 'resorcinol'}, 'DDI-MedLine.d106.s6.e1': {'offset': ['57', '71'], 'text': 'salicylic acid'}, 'DDI-MedLine.d106.s6.e2': {'offset': ['77', '99'], 'text': 'DIFFERIN Gel'}}\n",
      "\n",
      "DDI: True - advise\n"
     ]
    }
   ],
   "source": [
    "s = \"Caution should be exercised when combining resorcinol or salicylic acid with DIFFERIN Gel\"\n",
    "entities = {\n",
    "    \"DDI-MedLine.d106.s6.e0\": {\"offset\": \"43-53\".split(\"-\"), \"text\": \"resorcinol\"},\n",
    "    \"DDI-MedLine.d106.s6.e1\": {\"offset\": \"57-71\".split(\"-\"), \"text\": \"salicylic acid\"},\n",
    "    \"DDI-MedLine.d106.s6.e2\": {\"offset\": \"77-99\".split(\"-\"), \"text\": \"DIFFERIN Gel\"}\n",
    "}\n",
    "_is_ddi = True\n",
    "_ddi_type = \"advise\"\n",
    "print(f\"Sentence:\\n{s}\")\n",
    "print(f\"\\n{entities}\\n\")\n",
    "print(f\"DDI: {_is_ddi} - {_ddi_type}\")"
   ]
  },
  {
   "cell_type": "code",
   "execution_count": 35,
   "metadata": {},
   "outputs": [
    {
     "data": {
      "image/svg+xml": [
       "<?xml version=\"1.0\" encoding=\"UTF-8\" standalone=\"no\"?>\n",
       "<!DOCTYPE svg PUBLIC \"-//W3C//DTD SVG 1.1//EN\"\n",
       " \"http://www.w3.org/Graphics/SVG/1.1/DTD/svg11.dtd\">\n",
       "<!-- Generated by graphviz version 2.40.1 (20161225.0304)\n",
       " -->\n",
       "<!-- Title: G Pages: 1 -->\n",
       "<svg width=\"561pt\" height=\"479pt\"\n",
       " viewBox=\"0.00 0.00 560.50 479.00\" xmlns=\"http://www.w3.org/2000/svg\" xmlns:xlink=\"http://www.w3.org/1999/xlink\">\n",
       "<g id=\"graph0\" class=\"graph\" transform=\"scale(1 1) rotate(0) translate(4 475)\">\n",
       "<title>G</title>\n",
       "<polygon fill=\"#ffffff\" stroke=\"transparent\" points=\"-4,4 -4,-475 556.5,-475 556.5,4 -4,4\"/>\n",
       "<!-- 0 -->\n",
       "<g id=\"node1\" class=\"node\">\n",
       "<title>0</title>\n",
       "<text text-anchor=\"middle\" x=\"173.5\" y=\"-449.3\" font-family=\"Times,serif\" font-size=\"14.00\" fill=\"#000000\">0 (None)</text>\n",
       "</g>\n",
       "<!-- 4 -->\n",
       "<g id=\"node2\" class=\"node\">\n",
       "<title>4</title>\n",
       "<text text-anchor=\"middle\" x=\"173.5\" y=\"-362.3\" font-family=\"Times,serif\" font-size=\"14.00\" fill=\"#000000\">4 (exercised)</text>\n",
       "</g>\n",
       "<!-- 0&#45;&gt;4 -->\n",
       "<g id=\"edge1\" class=\"edge\">\n",
       "<title>0&#45;&gt;4</title>\n",
       "<path fill=\"none\" stroke=\"#000000\" d=\"M173.5,-434.9735C173.5,-423.1918 173.5,-407.5607 173.5,-394.1581\"/>\n",
       "<polygon fill=\"#000000\" stroke=\"#000000\" points=\"177.0001,-394.0033 173.5,-384.0034 170.0001,-394.0034 177.0001,-394.0033\"/>\n",
       "<text text-anchor=\"middle\" x=\"192\" y=\"-405.8\" font-family=\"Times,serif\" font-size=\"14.00\" fill=\"#000000\">ROOT</text>\n",
       "</g>\n",
       "<!-- 1 -->\n",
       "<g id=\"node3\" class=\"node\">\n",
       "<title>1</title>\n",
       "<text text-anchor=\"middle\" x=\"39.5\" y=\"-275.3\" font-family=\"Times,serif\" font-size=\"14.00\" fill=\"#000000\">1 (Caution)</text>\n",
       "</g>\n",
       "<!-- 4&#45;&gt;1 -->\n",
       "<g id=\"edge2\" class=\"edge\">\n",
       "<title>4&#45;&gt;1</title>\n",
       "<path fill=\"none\" stroke=\"#000000\" d=\"M129.9387,-349.1518C118.0329,-343.7559 105.4132,-337.2696 94.5,-330 83.493,-322.6679 72.563,-313.1265 63.3812,-304.2827\"/>\n",
       "<polygon fill=\"#000000\" stroke=\"#000000\" points=\"65.6826,-301.6358 56.1165,-297.0818 60.7548,-306.6074 65.6826,-301.6358\"/>\n",
       "<text text-anchor=\"middle\" x=\"121\" y=\"-318.8\" font-family=\"Times,serif\" font-size=\"14.00\" fill=\"#000000\">nsubjpass</text>\n",
       "</g>\n",
       "<!-- 2 -->\n",
       "<g id=\"node4\" class=\"node\">\n",
       "<title>2</title>\n",
       "<text text-anchor=\"middle\" x=\"133.5\" y=\"-275.3\" font-family=\"Times,serif\" font-size=\"14.00\" fill=\"#000000\">2 (should)</text>\n",
       "</g>\n",
       "<!-- 4&#45;&gt;2 -->\n",
       "<g id=\"edge3\" class=\"edge\">\n",
       "<title>4&#45;&gt;2</title>\n",
       "<path fill=\"none\" stroke=\"#000000\" d=\"M165.212,-347.9735C159.6878,-335.9585 152.323,-319.9401 146.0814,-306.3646\"/>\n",
       "<polygon fill=\"#000000\" stroke=\"#000000\" points=\"149.1348,-304.627 141.7774,-297.0034 142.7748,-307.5512 149.1348,-304.627\"/>\n",
       "<text text-anchor=\"middle\" x=\"166.5\" y=\"-318.8\" font-family=\"Times,serif\" font-size=\"14.00\" fill=\"#000000\">aux</text>\n",
       "</g>\n",
       "<!-- 3 -->\n",
       "<g id=\"node5\" class=\"node\">\n",
       "<title>3</title>\n",
       "<text text-anchor=\"middle\" x=\"214.5\" y=\"-275.3\" font-family=\"Times,serif\" font-size=\"14.00\" fill=\"#000000\">3 (be)</text>\n",
       "</g>\n",
       "<!-- 4&#45;&gt;3 -->\n",
       "<g id=\"edge4\" class=\"edge\">\n",
       "<title>4&#45;&gt;3</title>\n",
       "<path fill=\"none\" stroke=\"#000000\" d=\"M181.9952,-347.9735C187.6575,-335.9585 195.2064,-319.9401 201.6041,-306.3646\"/>\n",
       "<polygon fill=\"#000000\" stroke=\"#000000\" points=\"204.9187,-307.5413 206.0157,-297.0034 198.5866,-304.5571 204.9187,-307.5413\"/>\n",
       "<text text-anchor=\"middle\" x=\"218\" y=\"-318.8\" font-family=\"Times,serif\" font-size=\"14.00\" fill=\"#000000\">auxpass</text>\n",
       "</g>\n",
       "<!-- 6 -->\n",
       "<g id=\"node6\" class=\"node\">\n",
       "<title>6</title>\n",
       "<text text-anchor=\"middle\" x=\"307.5\" y=\"-275.3\" font-family=\"Times,serif\" font-size=\"14.00\" fill=\"#000000\">6 (combining)</text>\n",
       "</g>\n",
       "<!-- 4&#45;&gt;6 -->\n",
       "<g id=\"edge5\" class=\"edge\">\n",
       "<title>4&#45;&gt;6</title>\n",
       "<path fill=\"none\" stroke=\"#000000\" d=\"M212.0516,-347.9C222.4923,-342.5372 233.6305,-336.3808 243.5,-330 255.6698,-322.1321 268.3019,-312.4375 279.096,-303.621\"/>\n",
       "<polygon fill=\"#000000\" stroke=\"#000000\" points=\"281.4972,-306.1765 286.9539,-297.0949 277.0248,-300.7914 281.4972,-306.1765\"/>\n",
       "<text text-anchor=\"middle\" x=\"279.5\" y=\"-318.8\" font-family=\"Times,serif\" font-size=\"14.00\" fill=\"#000000\">advcl</text>\n",
       "</g>\n",
       "<!-- 5 -->\n",
       "<g id=\"node7\" class=\"node\">\n",
       "<title>5</title>\n",
       "<text text-anchor=\"middle\" x=\"211.5\" y=\"-188.3\" font-family=\"Times,serif\" font-size=\"14.00\" fill=\"#000000\">5 (when)</text>\n",
       "</g>\n",
       "<!-- 6&#45;&gt;5 -->\n",
       "<g id=\"edge6\" class=\"edge\">\n",
       "<title>6&#45;&gt;5</title>\n",
       "<path fill=\"none\" stroke=\"#000000\" d=\"M280.8336,-260.84C273.3761,-255.3838 265.4227,-249.1942 258.5,-243 249.9321,-235.3338 241.217,-226.2913 233.6566,-217.9657\"/>\n",
       "<polygon fill=\"#000000\" stroke=\"#000000\" points=\"236.0686,-215.4115 226.8041,-210.2715 230.8412,-220.067 236.0686,-215.4115\"/>\n",
       "<text text-anchor=\"middle\" x=\"281\" y=\"-231.8\" font-family=\"Times,serif\" font-size=\"14.00\" fill=\"#000000\">advmod</text>\n",
       "</g>\n",
       "<!-- 7 -->\n",
       "<g id=\"node8\" class=\"node\">\n",
       "<title>7</title>\n",
       "<text text-anchor=\"middle\" x=\"307.5\" y=\"-188.3\" font-family=\"Times,serif\" font-size=\"14.00\" fill=\"#000000\">7 (resorcinol)</text>\n",
       "</g>\n",
       "<!-- 6&#45;&gt;7 -->\n",
       "<g id=\"edge7\" class=\"edge\">\n",
       "<title>6&#45;&gt;7</title>\n",
       "<path fill=\"none\" stroke=\"#000000\" d=\"M307.5,-260.9735C307.5,-249.1918 307.5,-233.5607 307.5,-220.1581\"/>\n",
       "<polygon fill=\"#000000\" stroke=\"#000000\" points=\"311.0001,-220.0033 307.5,-210.0034 304.0001,-220.0034 311.0001,-220.0033\"/>\n",
       "<text text-anchor=\"middle\" x=\"320\" y=\"-231.8\" font-family=\"Times,serif\" font-size=\"14.00\" fill=\"#000000\">dobj</text>\n",
       "</g>\n",
       "<!-- 13 -->\n",
       "<g id=\"node9\" class=\"node\">\n",
       "<title>13</title>\n",
       "<text text-anchor=\"middle\" x=\"401.5\" y=\"-188.3\" font-family=\"Times,serif\" font-size=\"14.00\" fill=\"#000000\">13 (Gel)</text>\n",
       "</g>\n",
       "<!-- 6&#45;&gt;13 -->\n",
       "<g id=\"edge8\" class=\"edge\">\n",
       "<title>6&#45;&gt;13</title>\n",
       "<path fill=\"none\" stroke=\"#000000\" d=\"M326.9769,-260.9735C340.7149,-248.2586 359.2969,-231.0603 374.4688,-217.0183\"/>\n",
       "<polygon fill=\"#000000\" stroke=\"#000000\" points=\"377.0864,-219.3646 382.0481,-210.0034 372.3316,-214.2272 377.0864,-219.3646\"/>\n",
       "<text text-anchor=\"middle\" x=\"376.5\" y=\"-231.8\" font-family=\"Times,serif\" font-size=\"14.00\" fill=\"#000000\">nmod</text>\n",
       "</g>\n",
       "<!-- 8 -->\n",
       "<g id=\"node10\" class=\"node\">\n",
       "<title>8</title>\n",
       "<text text-anchor=\"middle\" x=\"232.5\" y=\"-101.3\" font-family=\"Times,serif\" font-size=\"14.00\" fill=\"#000000\">8 (or)</text>\n",
       "</g>\n",
       "<!-- 7&#45;&gt;8 -->\n",
       "<g id=\"edge9\" class=\"edge\">\n",
       "<title>7&#45;&gt;8</title>\n",
       "<path fill=\"none\" stroke=\"#000000\" d=\"M291.96,-173.9735C281.1999,-161.4919 266.7154,-144.6899 254.7365,-130.7944\"/>\n",
       "<polygon fill=\"#000000\" stroke=\"#000000\" points=\"257.2005,-128.2922 248.0201,-123.0034 251.8986,-132.8628 257.2005,-128.2922\"/>\n",
       "<text text-anchor=\"middle\" x=\"281\" y=\"-144.8\" font-family=\"Times,serif\" font-size=\"14.00\" fill=\"#000000\">cc</text>\n",
       "</g>\n",
       "<!-- 10 -->\n",
       "<g id=\"node11\" class=\"node\">\n",
       "<title>10</title>\n",
       "<text text-anchor=\"middle\" x=\"310.5\" y=\"-101.3\" font-family=\"Times,serif\" font-size=\"14.00\" fill=\"#000000\">10 (acid)</text>\n",
       "</g>\n",
       "<!-- 7&#45;&gt;10 -->\n",
       "<g id=\"edge10\" class=\"edge\">\n",
       "<title>7&#45;&gt;10</title>\n",
       "<path fill=\"none\" stroke=\"#000000\" d=\"M308.1216,-173.9735C308.5279,-162.1918 309.0669,-146.5607 309.529,-133.1581\"/>\n",
       "<polygon fill=\"#000000\" stroke=\"#000000\" points=\"313.0324,-133.1181 309.8792,-123.0034 306.0366,-132.8768 313.0324,-133.1181\"/>\n",
       "<text text-anchor=\"middle\" x=\"321.5\" y=\"-144.8\" font-family=\"Times,serif\" font-size=\"14.00\" fill=\"#000000\">conj</text>\n",
       "</g>\n",
       "<!-- 11 -->\n",
       "<g id=\"node13\" class=\"node\">\n",
       "<title>11</title>\n",
       "<text text-anchor=\"middle\" x=\"396.5\" y=\"-101.3\" font-family=\"Times,serif\" font-size=\"14.00\" fill=\"#000000\">11 (with)</text>\n",
       "</g>\n",
       "<!-- 13&#45;&gt;11 -->\n",
       "<g id=\"edge12\" class=\"edge\">\n",
       "<title>13&#45;&gt;11</title>\n",
       "<path fill=\"none\" stroke=\"#000000\" d=\"M400.464,-173.9735C399.7869,-162.1918 398.8885,-146.5607 398.1183,-133.1581\"/>\n",
       "<polygon fill=\"#000000\" stroke=\"#000000\" points=\"401.6028,-132.786 397.5347,-123.0034 394.6143,-133.1877 401.6028,-132.786\"/>\n",
       "<text text-anchor=\"middle\" x=\"411.5\" y=\"-144.8\" font-family=\"Times,serif\" font-size=\"14.00\" fill=\"#000000\">case</text>\n",
       "</g>\n",
       "<!-- 12 -->\n",
       "<g id=\"node14\" class=\"node\">\n",
       "<title>12</title>\n",
       "<text text-anchor=\"middle\" x=\"500.5\" y=\"-101.3\" font-family=\"Times,serif\" font-size=\"14.00\" fill=\"#000000\">12 (DIFFERIN)</text>\n",
       "</g>\n",
       "<!-- 13&#45;&gt;12 -->\n",
       "<g id=\"edge13\" class=\"edge\">\n",
       "<title>13&#45;&gt;12</title>\n",
       "<path fill=\"none\" stroke=\"#000000\" d=\"M422.0129,-173.9735C436.6144,-161.1419 456.4116,-143.7443 472.4698,-129.6326\"/>\n",
       "<polygon fill=\"#000000\" stroke=\"#000000\" points=\"474.8122,-132.2336 480.0134,-123.0034 470.1913,-126.9755 474.8122,-132.2336\"/>\n",
       "<text text-anchor=\"middle\" x=\"485.5\" y=\"-144.8\" font-family=\"Times,serif\" font-size=\"14.00\" fill=\"#000000\">compound</text>\n",
       "</g>\n",
       "<!-- 9 -->\n",
       "<g id=\"node12\" class=\"node\">\n",
       "<title>9</title>\n",
       "<text text-anchor=\"middle\" x=\"310.5\" y=\"-14.3\" font-family=\"Times,serif\" font-size=\"14.00\" fill=\"#000000\">9 (salicylic)</text>\n",
       "</g>\n",
       "<!-- 10&#45;&gt;9 -->\n",
       "<g id=\"edge11\" class=\"edge\">\n",
       "<title>10&#45;&gt;9</title>\n",
       "<path fill=\"none\" stroke=\"#000000\" d=\"M310.5,-86.9735C310.5,-75.1918 310.5,-59.5607 310.5,-46.1581\"/>\n",
       "<polygon fill=\"#000000\" stroke=\"#000000\" points=\"314.0001,-46.0033 310.5,-36.0034 307.0001,-46.0034 314.0001,-46.0033\"/>\n",
       "<text text-anchor=\"middle\" x=\"326\" y=\"-57.8\" font-family=\"Times,serif\" font-size=\"14.00\" fill=\"#000000\">amod</text>\n",
       "</g>\n",
       "</g>\n",
       "</svg>\n"
      ],
      "text/plain": [
       "<DependencyGraph with 14 nodes>"
      ]
     },
     "execution_count": 35,
     "metadata": {},
     "output_type": "execute_result"
    }
   ],
   "source": [
    "analysis, = DependencyParser.raw_parse(s)\n",
    "analysis"
   ]
  },
  {
   "cell_type": "code",
   "execution_count": 36,
   "metadata": {},
   "outputs": [],
   "source": [
    "def get_entity_node(entity, analysis, entities):\n",
    "    \"\"\"\n",
    "    Get Entity Node.\n",
    "    Function which finds the node in the Dependency Tree which corresponds to the root of the entity.\n",
    "    \"\"\"\n",
    "    nodes = [analysis.nodes[k] for k in analysis.nodes]\n",
    "    ent = entities[entity][\"text\"]\n",
    "    possible = [node for node in nodes if node[\"word\"] is not None and node[\"word\"] in ent]\n",
    "    node = sorted(possible, key=lambda x: x[\"head\"])[0]\n",
    "    return node\n",
    "\n",
    "e0 = get_entity_node(\"DDI-MedLine.d106.s6.e0\", analysis, entities)\n",
    "e1 = get_entity_node(\"DDI-MedLine.d106.s6.e1\", analysis, entities)\n",
    "e2 = get_entity_node(\"DDI-MedLine.d106.s6.e2\", analysis, entities)"
   ]
  },
  {
   "cell_type": "code",
   "execution_count": 37,
   "metadata": {},
   "outputs": [],
   "source": [
    "nodes = [analysis.nodes[k] for k in analysis.nodes]"
   ]
  },
  {
   "cell_type": "code",
   "execution_count": 38,
   "metadata": {},
   "outputs": [
    {
     "data": {
      "text/plain": [
       "(True, False)"
      ]
     },
     "execution_count": 38,
     "metadata": {},
     "output_type": "execute_result"
    }
   ],
   "source": [
    "# e0 -conj-> e1\n",
    "e0_conj = e0[\"deps\"][\"conj\"][0] if len(e0[\"deps\"][\"conj\"]) else -1\n",
    "e0_conj_e1 = e0_conj == e1[\"address\"]\n",
    "# e1 -conj-> e2\n",
    "e1_conj = e1[\"deps\"][\"conj\"][0] if len(e1[\"deps\"][\"conj\"]) else -1\n",
    "e1_conj_e2 = e1_conj == e2[\"address\"]\n",
    "\n",
    "e0_conj_e1, e1_conj_e2"
   ]
  },
  {
   "cell_type": "code",
   "execution_count": 39,
   "metadata": {},
   "outputs": [
    {
     "data": {
      "text/plain": [
       "True"
      ]
     },
     "execution_count": 39,
     "metadata": {},
     "output_type": "execute_result"
    }
   ],
   "source": [
    "def get_verb_ancestor(analysis, node):\n",
    "    \"\"\"\n",
    "    \"\"\"\n",
    "    nodes = analysis.nodes\n",
    "    while node[\"tag\"] != \"TOP\" and \"VB\" not in node[\"tag\"]:\n",
    "        node = nodes[node[\"head\"]]\n",
    "        if not node[\"tag\"]:\n",
    "            break\n",
    "    return node\n",
    "v1 = get_verb_ancestor(analysis, e1)\n",
    "v2 = get_verb_ancestor(analysis, e2)\n",
    "\n",
    "# e1_vrb == e2_vrb\n",
    "v1[\"address\"] == v2[\"address\"]"
   ]
  },
  {
   "cell_type": "code",
   "execution_count": 40,
   "metadata": {},
   "outputs": [],
   "source": [
    "# DDI type clues\n",
    "advise_clues = [\"should\", \"must\", \"may\", \"recommend\", \"caution\"]\n",
    "effect_clues = [\"produce\", \"administer\", \"potentiate\", \"prevent\", \"effect\"]\n",
    "int_clues = [\"interact\", \"interaction\"]\n",
    "mechanism_clues = [\"reduce\", \"increase\", \"decrease\"]"
   ]
  },
  {
   "cell_type": "code",
   "execution_count": 41,
   "metadata": {},
   "outputs": [
    {
     "name": "stdout",
     "output_type": "stream",
     "text": [
      "False\n",
      "False\n",
      "False\n",
      "False\n"
     ]
    }
   ],
   "source": [
    "nodes = [analysis.nodes[k] for k in analysis.nodes]\n",
    "clues = [n for n in nodes if n[\"lemma\"] in advise_clues]\n",
    "for clue in clues:\n",
    "    address = clue[\"address\"]\n",
    "    verb_address = clue[\"head\"]\n",
    "    print(verb[\"address\"] == address)\n",
    "    print(verb[\"address\"] == verb_address)"
   ]
  },
  {
   "cell_type": "code",
   "execution_count": 51,
   "metadata": {},
   "outputs": [],
   "source": [
    "def get_dependency_address(node, dependency):\n",
    "    \"\"\"\n",
    "    Get Dependency Address.\n",
    "    Function which returns the address of a given dependency for a given node,\n",
    "    or a non tractable value -1, which always evaluates to False in the\n",
    "    features. To use when extracting features.\n",
    "    Args:\n",
    "        - node: dictionary with node to look dependencies from.\n",
    "        - dependency: string with dependency name to look for in node.\n",
    "    Return:\n",
    "        - _: string with address of found dependency, or -1 if not found.\n",
    "    \"\"\"\n",
    "    dep = node[\"deps\"][dependency]\n",
    "    # If dependency exists, return address\n",
    "    # If dependency does not exist, return non-value\n",
    "    return dep[0] if len(dep) else -1"
   ]
  },
  {
   "cell_type": "code",
   "execution_count": 53,
   "metadata": {},
   "outputs": [
    {
     "data": {
      "text/plain": [
       "(True, True)"
      ]
     },
     "execution_count": 53,
     "metadata": {},
     "output_type": "execute_result"
    }
   ],
   "source": [
    "get_dependency_address(v1, \"dobj\") == e0[\"address\"], get_dependency_address(v2, \"nmod\") == e2[\"address\"]"
   ]
  },
  {
   "cell_type": "code",
   "execution_count": 54,
   "metadata": {},
   "outputs": [
    {
     "name": "stdout",
     "output_type": "stream",
     "text": [
      "Sentence:\n",
      "PGF2alpha produced significantly increased vasoconstriction after a single administration of oxytocin.\n",
      "\n",
      "{'DDI-MedLine.d17.s4.e0': {'offset': ['0', '8'], 'text': 'PGF2alpha'}, 'DDI-MedLine.d17.s4.e1': {'offset': ['93', '100'], 'text': 'oxytocin'}}\n",
      "\n",
      "DDI: True - effect\n"
     ]
    }
   ],
   "source": [
    "s = \"PGF2alpha produced significantly increased vasoconstriction after a single administration of oxytocin.\"\n",
    "entities = {\n",
    "    \"DDI-MedLine.d17.s4.e0\": {\"offset\": \"0-8\".split(\"-\"), \"text\": \"PGF2alpha\"},\n",
    "    \"DDI-MedLine.d17.s4.e1\": {\"offset\": \"93-100\".split(\"-\"), \"text\": \"oxytocin\"},\n",
    "}\n",
    "_is_ddi = True\n",
    "_ddi_type = \"effect\"\n",
    "print(f\"Sentence:\\n{s}\")\n",
    "print(f\"\\n{entities}\\n\")\n",
    "print(f\"DDI: {_is_ddi} - {_ddi_type}\")"
   ]
  },
  {
   "cell_type": "code",
   "execution_count": 55,
   "metadata": {},
   "outputs": [
    {
     "data": {
      "image/svg+xml": [
       "<?xml version=\"1.0\" encoding=\"UTF-8\" standalone=\"no\"?>\n",
       "<!DOCTYPE svg PUBLIC \"-//W3C//DTD SVG 1.1//EN\"\n",
       " \"http://www.w3.org/Graphics/SVG/1.1/DTD/svg11.dtd\">\n",
       "<!-- Generated by graphviz version 2.40.1 (20161225.0304)\n",
       " -->\n",
       "<!-- Title: G Pages: 1 -->\n",
       "<svg width=\"545pt\" height=\"392pt\"\n",
       " viewBox=\"0.00 0.00 544.50 392.00\" xmlns=\"http://www.w3.org/2000/svg\" xmlns:xlink=\"http://www.w3.org/1999/xlink\">\n",
       "<g id=\"graph0\" class=\"graph\" transform=\"scale(1 1) rotate(0) translate(4 388)\">\n",
       "<title>G</title>\n",
       "<polygon fill=\"#ffffff\" stroke=\"transparent\" points=\"-4,4 -4,-388 540.5,-388 540.5,4 -4,4\"/>\n",
       "<!-- 0 -->\n",
       "<g id=\"node1\" class=\"node\">\n",
       "<title>0</title>\n",
       "<text text-anchor=\"middle\" x=\"263.5\" y=\"-362.3\" font-family=\"Times,serif\" font-size=\"14.00\" fill=\"#000000\">0 (None)</text>\n",
       "</g>\n",
       "<!-- 2 -->\n",
       "<g id=\"node2\" class=\"node\">\n",
       "<title>2</title>\n",
       "<text text-anchor=\"middle\" x=\"263.5\" y=\"-275.3\" font-family=\"Times,serif\" font-size=\"14.00\" fill=\"#000000\">2 (produced)</text>\n",
       "</g>\n",
       "<!-- 0&#45;&gt;2 -->\n",
       "<g id=\"edge1\" class=\"edge\">\n",
       "<title>0&#45;&gt;2</title>\n",
       "<path fill=\"none\" stroke=\"#000000\" d=\"M263.5,-347.9735C263.5,-336.1918 263.5,-320.5607 263.5,-307.1581\"/>\n",
       "<polygon fill=\"#000000\" stroke=\"#000000\" points=\"267.0001,-307.0033 263.5,-297.0034 260.0001,-307.0034 267.0001,-307.0033\"/>\n",
       "<text text-anchor=\"middle\" x=\"282\" y=\"-318.8\" font-family=\"Times,serif\" font-size=\"14.00\" fill=\"#000000\">ROOT</text>\n",
       "</g>\n",
       "<!-- 1 -->\n",
       "<g id=\"node3\" class=\"node\">\n",
       "<title>1</title>\n",
       "<text text-anchor=\"middle\" x=\"48.5\" y=\"-188.3\" font-family=\"Times,serif\" font-size=\"14.00\" fill=\"#000000\">1 (PGF2alpha)</text>\n",
       "</g>\n",
       "<!-- 2&#45;&gt;1 -->\n",
       "<g id=\"edge2\" class=\"edge\">\n",
       "<title>2&#45;&gt;1</title>\n",
       "<path fill=\"none\" stroke=\"#000000\" d=\"M220.2502,-261.4989C186.3681,-247.7885 139.0357,-228.6354 102.6381,-213.907\"/>\n",
       "<polygon fill=\"#000000\" stroke=\"#000000\" points=\"103.7425,-210.5783 93.1598,-210.0716 101.1167,-217.0672 103.7425,-210.5783\"/>\n",
       "<text text-anchor=\"middle\" x=\"184.5\" y=\"-231.8\" font-family=\"Times,serif\" font-size=\"14.00\" fill=\"#000000\">nsubj</text>\n",
       "</g>\n",
       "<!-- 5 -->\n",
       "<g id=\"node4\" class=\"node\">\n",
       "<title>5</title>\n",
       "<text text-anchor=\"middle\" x=\"177.5\" y=\"-188.3\" font-family=\"Times,serif\" font-size=\"14.00\" fill=\"#000000\">5 (vasoconstriction)</text>\n",
       "</g>\n",
       "<!-- 2&#45;&gt;5 -->\n",
       "<g id=\"edge3\" class=\"edge\">\n",
       "<title>2&#45;&gt;5</title>\n",
       "<path fill=\"none\" stroke=\"#000000\" d=\"M245.6807,-260.9735C233.2272,-248.3752 216.4229,-231.3755 202.6135,-217.4055\"/>\n",
       "<polygon fill=\"#000000\" stroke=\"#000000\" points=\"204.8157,-214.6547 195.2964,-210.0034 199.8374,-219.5757 204.8157,-214.6547\"/>\n",
       "<text text-anchor=\"middle\" x=\"239\" y=\"-231.8\" font-family=\"Times,serif\" font-size=\"14.00\" fill=\"#000000\">dobj</text>\n",
       "</g>\n",
       "<!-- 9 -->\n",
       "<g id=\"node5\" class=\"node\">\n",
       "<title>9</title>\n",
       "<text text-anchor=\"middle\" x=\"315.5\" y=\"-188.3\" font-family=\"Times,serif\" font-size=\"14.00\" fill=\"#000000\">9 (administration)</text>\n",
       "</g>\n",
       "<!-- 2&#45;&gt;9 -->\n",
       "<g id=\"edge4\" class=\"edge\">\n",
       "<title>2&#45;&gt;9</title>\n",
       "<path fill=\"none\" stroke=\"#000000\" d=\"M274.2744,-260.9735C281.5256,-248.8418 291.2162,-232.6287 299.3801,-218.9698\"/>\n",
       "<polygon fill=\"#000000\" stroke=\"#000000\" points=\"302.6132,-220.3827 304.7394,-210.0034 296.6046,-216.7913 302.6132,-220.3827\"/>\n",
       "<text text-anchor=\"middle\" x=\"309.5\" y=\"-231.8\" font-family=\"Times,serif\" font-size=\"14.00\" fill=\"#000000\">nmod</text>\n",
       "</g>\n",
       "<!-- 12 -->\n",
       "<g id=\"node6\" class=\"node\">\n",
       "<title>12</title>\n",
       "<text text-anchor=\"middle\" x=\"418.5\" y=\"-188.3\" font-family=\"Times,serif\" font-size=\"14.00\" fill=\"#000000\">12 (.)</text>\n",
       "</g>\n",
       "<!-- 2&#45;&gt;12 -->\n",
       "<g id=\"edge5\" class=\"edge\">\n",
       "<title>2&#45;&gt;12</title>\n",
       "<path fill=\"none\" stroke=\"#000000\" d=\"M297.151,-260.8218C307.5477,-255.1581 319.0193,-248.8604 329.5,-243 346.9112,-233.2643 366.1254,-222.2841 382.2312,-213.0124\"/>\n",
       "<polygon fill=\"#000000\" stroke=\"#000000\" points=\"384.4029,-215.8004 391.3177,-207.7732 380.9063,-209.7363 384.4029,-215.8004\"/>\n",
       "<text text-anchor=\"middle\" x=\"370\" y=\"-231.8\" font-family=\"Times,serif\" font-size=\"14.00\" fill=\"#000000\">punct</text>\n",
       "</g>\n",
       "<!-- 4 -->\n",
       "<g id=\"node8\" class=\"node\">\n",
       "<title>4</title>\n",
       "<text text-anchor=\"middle\" x=\"147.5\" y=\"-101.3\" font-family=\"Times,serif\" font-size=\"14.00\" fill=\"#000000\">4 (increased)</text>\n",
       "</g>\n",
       "<!-- 5&#45;&gt;4 -->\n",
       "<g id=\"edge7\" class=\"edge\">\n",
       "<title>5&#45;&gt;4</title>\n",
       "<path fill=\"none\" stroke=\"#000000\" d=\"M171.284,-173.9735C167.1811,-162.0751 161.7244,-146.2508 157.0726,-132.7606\"/>\n",
       "<polygon fill=\"#000000\" stroke=\"#000000\" points=\"160.2768,-131.3161 153.7081,-123.0034 153.6592,-133.5981 160.2768,-131.3161\"/>\n",
       "<text text-anchor=\"middle\" x=\"180\" y=\"-144.8\" font-family=\"Times,serif\" font-size=\"14.00\" fill=\"#000000\">amod</text>\n",
       "</g>\n",
       "<!-- 6 -->\n",
       "<g id=\"node9\" class=\"node\">\n",
       "<title>6</title>\n",
       "<text text-anchor=\"middle\" x=\"239.5\" y=\"-101.3\" font-family=\"Times,serif\" font-size=\"14.00\" fill=\"#000000\">6 (after)</text>\n",
       "</g>\n",
       "<!-- 9&#45;&gt;6 -->\n",
       "<g id=\"edge8\" class=\"edge\">\n",
       "<title>9&#45;&gt;6</title>\n",
       "<path fill=\"none\" stroke=\"#000000\" d=\"M299.7528,-173.9735C288.8492,-161.4919 274.1716,-144.6899 262.033,-130.7944\"/>\n",
       "<polygon fill=\"#000000\" stroke=\"#000000\" points=\"264.4419,-128.2319 255.2271,-123.0034 259.1701,-132.8371 264.4419,-128.2319\"/>\n",
       "<text text-anchor=\"middle\" x=\"294.5\" y=\"-144.8\" font-family=\"Times,serif\" font-size=\"14.00\" fill=\"#000000\">case</text>\n",
       "</g>\n",
       "<!-- 7 -->\n",
       "<g id=\"node10\" class=\"node\">\n",
       "<title>7</title>\n",
       "<text text-anchor=\"middle\" x=\"315.5\" y=\"-101.3\" font-family=\"Times,serif\" font-size=\"14.00\" fill=\"#000000\">7 (a)</text>\n",
       "</g>\n",
       "<!-- 9&#45;&gt;7 -->\n",
       "<g id=\"edge9\" class=\"edge\">\n",
       "<title>9&#45;&gt;7</title>\n",
       "<path fill=\"none\" stroke=\"#000000\" d=\"M315.5,-173.9735C315.5,-162.1918 315.5,-146.5607 315.5,-133.1581\"/>\n",
       "<polygon fill=\"#000000\" stroke=\"#000000\" points=\"319.0001,-133.0033 315.5,-123.0034 312.0001,-133.0034 319.0001,-133.0033\"/>\n",
       "<text text-anchor=\"middle\" x=\"324\" y=\"-144.8\" font-family=\"Times,serif\" font-size=\"14.00\" fill=\"#000000\">det</text>\n",
       "</g>\n",
       "<!-- 8 -->\n",
       "<g id=\"node11\" class=\"node\">\n",
       "<title>8</title>\n",
       "<text text-anchor=\"middle\" x=\"394.5\" y=\"-101.3\" font-family=\"Times,serif\" font-size=\"14.00\" fill=\"#000000\">8 (single)</text>\n",
       "</g>\n",
       "<!-- 9&#45;&gt;8 -->\n",
       "<g id=\"edge10\" class=\"edge\">\n",
       "<title>9&#45;&gt;8</title>\n",
       "<path fill=\"none\" stroke=\"#000000\" d=\"M331.8689,-173.9735C343.2028,-161.4919 358.4597,-144.6899 371.0775,-130.7944\"/>\n",
       "<polygon fill=\"#000000\" stroke=\"#000000\" points=\"374.0207,-132.7595 378.1521,-123.0034 368.8385,-128.0538 374.0207,-132.7595\"/>\n",
       "<text text-anchor=\"middle\" x=\"376\" y=\"-144.8\" font-family=\"Times,serif\" font-size=\"14.00\" fill=\"#000000\">amod</text>\n",
       "</g>\n",
       "<!-- 11 -->\n",
       "<g id=\"node12\" class=\"node\">\n",
       "<title>11</title>\n",
       "<text text-anchor=\"middle\" x=\"491.5\" y=\"-101.3\" font-family=\"Times,serif\" font-size=\"14.00\" fill=\"#000000\">11 (oxytocin)</text>\n",
       "</g>\n",
       "<!-- 9&#45;&gt;11 -->\n",
       "<g id=\"edge11\" class=\"edge\">\n",
       "<title>9&#45;&gt;11</title>\n",
       "<path fill=\"none\" stroke=\"#000000\" d=\"M357.2622,-173.8277C369.6488,-168.2711 383.1908,-162.0312 395.5,-156 413.5174,-147.172 433.1263,-136.8807 449.8976,-127.8641\"/>\n",
       "<polygon fill=\"#000000\" stroke=\"#000000\" points=\"451.7604,-130.8359 458.8949,-123.0033 448.4331,-124.6772 451.7604,-130.8359\"/>\n",
       "<text text-anchor=\"middle\" x=\"441.5\" y=\"-144.8\" font-family=\"Times,serif\" font-size=\"14.00\" fill=\"#000000\">nmod</text>\n",
       "</g>\n",
       "<!-- 3 -->\n",
       "<g id=\"node7\" class=\"node\">\n",
       "<title>3</title>\n",
       "<text text-anchor=\"middle\" x=\"147.5\" y=\"-14.3\" font-family=\"Times,serif\" font-size=\"14.00\" fill=\"#000000\">3 (significantly)</text>\n",
       "</g>\n",
       "<!-- 4&#45;&gt;3 -->\n",
       "<g id=\"edge6\" class=\"edge\">\n",
       "<title>4&#45;&gt;3</title>\n",
       "<path fill=\"none\" stroke=\"#000000\" d=\"M147.5,-86.9735C147.5,-75.1918 147.5,-59.5607 147.5,-46.1581\"/>\n",
       "<polygon fill=\"#000000\" stroke=\"#000000\" points=\"151.0001,-46.0033 147.5,-36.0034 144.0001,-46.0034 151.0001,-46.0033\"/>\n",
       "<text text-anchor=\"middle\" x=\"170\" y=\"-57.8\" font-family=\"Times,serif\" font-size=\"14.00\" fill=\"#000000\">advmod</text>\n",
       "</g>\n",
       "<!-- 10 -->\n",
       "<g id=\"node13\" class=\"node\">\n",
       "<title>10</title>\n",
       "<text text-anchor=\"middle\" x=\"491.5\" y=\"-14.3\" font-family=\"Times,serif\" font-size=\"14.00\" fill=\"#000000\">10 (of)</text>\n",
       "</g>\n",
       "<!-- 11&#45;&gt;10 -->\n",
       "<g id=\"edge12\" class=\"edge\">\n",
       "<title>11&#45;&gt;10</title>\n",
       "<path fill=\"none\" stroke=\"#000000\" d=\"M491.5,-86.9735C491.5,-75.1918 491.5,-59.5607 491.5,-46.1581\"/>\n",
       "<polygon fill=\"#000000\" stroke=\"#000000\" points=\"495.0001,-46.0033 491.5,-36.0034 488.0001,-46.0034 495.0001,-46.0033\"/>\n",
       "<text text-anchor=\"middle\" x=\"503.5\" y=\"-57.8\" font-family=\"Times,serif\" font-size=\"14.00\" fill=\"#000000\">case</text>\n",
       "</g>\n",
       "</g>\n",
       "</svg>\n"
      ],
      "text/plain": [
       "<DependencyGraph with 13 nodes>"
      ]
     },
     "execution_count": 55,
     "metadata": {},
     "output_type": "execute_result"
    }
   ],
   "source": [
    "analysis, = DependencyParser.raw_parse(s)\n",
    "analysis"
   ]
  },
  {
   "cell_type": "code",
   "execution_count": null,
   "metadata": {},
   "outputs": [],
   "source": []
  },
  {
   "cell_type": "code",
   "execution_count": null,
   "metadata": {},
   "outputs": [],
   "source": []
  },
  {
   "cell_type": "code",
   "execution_count": null,
   "metadata": {},
   "outputs": [],
   "source": []
  }
 ],
 "metadata": {
  "kernelspec": {
   "display_name": "Python 3",
   "language": "python",
   "name": "python3"
  },
  "language_info": {
   "codemirror_mode": {
    "name": "ipython",
    "version": 3
   },
   "file_extension": ".py",
   "mimetype": "text/x-python",
   "name": "python",
   "nbconvert_exporter": "python",
   "pygments_lexer": "ipython3",
   "version": "3.7.0"
  }
 },
 "nbformat": 4,
 "nbformat_minor": 4
}
